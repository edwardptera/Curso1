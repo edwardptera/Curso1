{
  "nbformat": 4,
  "nbformat_minor": 0,
  "metadata": {
    "colab": {
      "name": "Clase_3.ipynb",
      "provenance": [],
      "collapsed_sections": [
        "scRFxUK7y2nQ",
        "kRgm3HAWuiMM",
        "4nirStfrwD-L",
        "jlVyD9S91v20",
        "Il2yVyVzUf9K",
        "zew9hyO9YyAA",
        "rXx2vElmOpL8",
        "Vuv14p5Y5keV",
        "rn3Zq6BB5n5V",
        "R3KVNXC-g7G8"
      ]
    },
    "kernelspec": {
      "name": "python3",
      "display_name": "Python 3"
    }
  },
  "cells": [
    {
      "cell_type": "markdown",
      "metadata": {
        "id": "scRFxUK7y2nQ",
        "colab_type": "text"
      },
      "source": [
        "#Ejercicios de numpy"
      ]
    },
    {
      "cell_type": "markdown",
      "metadata": {
        "id": "h_LSUkDVy6_m",
        "colab_type": "text"
      },
      "source": [
        "1) Cree un arreglo 2D de numeros aleatorios enteros usando la funcion `np.random.randint`, cuyo shape sea `(100,5)`, ademas asigne este arreglo a una variable que se llame `arr_2d`.\n",
        "\n",
        "Ayuda: recuerde que puede obtener mas informacion sobre la funcion `np.random.randint` usando el comando `np.random.randint?`"
      ]
    },
    {
      "cell_type": "markdown",
      "metadata": {
        "id": "xxZ_tvqeDuIr",
        "colab_type": "text"
      },
      "source": [
        "NO OLVIDE IMPORTAR EL MODULO DE NUMPY"
      ]
    },
    {
      "cell_type": "code",
      "metadata": {
        "id": "7jgLJ9sJy2SN",
        "colab_type": "code",
        "colab": {}
      },
      "source": [
        ""
      ],
      "execution_count": 0,
      "outputs": []
    },
    {
      "cell_type": "markdown",
      "metadata": {
        "id": "wSg5UVFJ0dvl",
        "colab_type": "text"
      },
      "source": [
        "2) Mire los atributos `shape , dtype, ndim, size` del arreglo que acabo de crear (`arr_2d`)."
      ]
    },
    {
      "cell_type": "code",
      "metadata": {
        "id": "o3PXYOfpy8DB",
        "colab_type": "code",
        "colab": {}
      },
      "source": [
        ""
      ],
      "execution_count": 0,
      "outputs": []
    },
    {
      "cell_type": "markdown",
      "metadata": {
        "id": "iGK-Ow8Hy8dE",
        "colab_type": "text"
      },
      "source": [
        "3) recuerde que los arreglos de python poseen algunos metodos que nos ayudan a calcular valores como el promedio , la desviacion estandar , etc. los metodos que poseen los arreglos de numpy pueden ser encontrados en este [link](https://docs.scipy.org/doc/numpy-1.14.0/reference/generated/numpy.ndarray.html). \n",
        "\n",
        " \n",
        "\n",
        "* a) Calcule el valor medio de cada columna usando el metodo `mean`\n",
        "\n",
        "* b) Calcule la suma de todos los elementos que tiene `arr_2d` usando el metodo `sum`, use este mismo metodo para calcular la suma de los elemenos de cada una de las columnas de la matriz \n",
        "\n",
        "* c) investigue el efecto que tiene el metodo `sort` al ser aplicado sobre arreglo completo , y luego mire que pasa cuando lo aplica a cada una de las columnas.\n",
        "\n",
        "Implemente las dos formas que se enseñaron para ejecutar metodos "
      ]
    },
    {
      "cell_type": "code",
      "metadata": {
        "id": "eTIbhOsG6D-W",
        "colab_type": "code",
        "colab": {}
      },
      "source": [
        ""
      ],
      "execution_count": 0,
      "outputs": []
    },
    {
      "cell_type": "markdown",
      "metadata": {
        "id": "8fhYwwoY3Pmi",
        "colab_type": "text"
      },
      "source": [
        "4) Si recuerda de la clase anterios, existen un conjuntos de funciones (llamadas funciones universales) que nos ayudan a realizar operaciones sobre cada una de las entradas de nuestros arreglos (operaciones elemento-por-elemento) como por ejemplo calcular la funcion trigonometrica seno de cada una de las entradas de nuestro arreglo.\n",
        "\n",
        "las funciones universales puede ser encontradas en este [link](https://docs.scipy.org/doc/numpy/reference/ufuncs.html).\n",
        "\n",
        "* a) cree uno que contenga el seno de cada uno de los valores de `arr_2d` y nombrelo `sin_arr_2`. \n",
        "\n",
        "* b) cree uno que contenga el coseno de cada uno de los valores de `arr_2d` y nombrelo `cos_arr_2`. \n",
        "\n",
        "* c) Ahora realice la suma elemento-por-elemento de los de `sin_arr_2` con `cos_arr_2` y luego el arreglo resultante calcule el valor medio y la desviacion estandar"
      ]
    },
    {
      "cell_type": "markdown",
      "metadata": {
        "id": "kRgm3HAWuiMM",
        "colab_type": "text"
      },
      "source": [
        "#Matplotlib"
      ]
    },
    {
      "cell_type": "markdown",
      "metadata": {
        "id": "NrY8aAuuuzYi",
        "colab_type": "text"
      },
      "source": [
        "matplotlib es la librería principal para la realización de gráficas científicas en Python. Esta librería proporciona funciones para la realizacion de gráficas como mapas, histogramas, gráficas de dispersión, entre otras. La visualización de sus datos y de diferentes aspectos de su analisis puede brindarle una mejor comprensión del problema a tratar. Para mayor información sobre la librería `matplotlib` puede consultar en [este enlace](https://matplotlib.org/index.html).\n",
        "\n",
        "1.   `matplotlib`: Cuando se habla de paquete, se habla de todo el paquete de visualización de Python.\n",
        "2.   `pyplot` : corresponde a un módulo de `matplotlib`, el cual permite crear  gráficas de forma rápida y sin necesidad de instanciar figuras o ejes.\n",
        "3.   `pylab` es una módulo poco recomendado para el tratamiento de arrays y gráficas inteacticas, cuyo uso es desaconsejado [en este enlace](https://matthiasbussonnier.com/posts/10-No-PyLab-Thanks.html)."
      ]
    },
    {
      "cell_type": "code",
      "metadata": {
        "id": "guAFOagspTLq",
        "colab_type": "code",
        "colab": {}
      },
      "source": [
        "#importar matplotlib.pyplot\n",
        "import matplotlib.pyplot as plt\n",
        "import numpy as np"
      ],
      "execution_count": 0,
      "outputs": []
    },
    {
      "cell_type": "markdown",
      "metadata": {
        "id": "4nirStfrwD-L",
        "colab_type": "text"
      },
      "source": [
        "## Funcion plot"
      ]
    },
    {
      "cell_type": "markdown",
      "metadata": {
        "id": "L1YivIT2wcOm",
        "colab_type": "text"
      },
      "source": [
        "la funcion plot nos permite realizar graficos de manera muy sencilla"
      ]
    },
    {
      "cell_type": "code",
      "metadata": {
        "id": "9cNXJqGuL4u3",
        "colab_type": "code",
        "outputId": "b752f710-1c19-4a89-f5bc-8b9bfe0cfbb3",
        "colab": {
          "base_uri": "https://localhost:8080/",
          "height": 0
        }
      },
      "source": [
        "#creacion del conjunto de puntos en x \n",
        "x = np.linspace(-2*np.pi, 2*np.pi, 100)\n",
        "x"
      ],
      "execution_count": 156,
      "outputs": [
        {
          "output_type": "execute_result",
          "data": {
            "text/plain": [
              "array([-6.28318531, -6.15625227, -6.02931923, -5.9023862 , -5.77545316,\n",
              "       -5.64852012, -5.52158709, -5.39465405, -5.26772102, -5.14078798,\n",
              "       -5.01385494, -4.88692191, -4.75998887, -4.63305583, -4.5061228 ,\n",
              "       -4.37918976, -4.25225672, -4.12532369, -3.99839065, -3.87145761,\n",
              "       -3.74452458, -3.61759154, -3.4906585 , -3.36372547, -3.23679243,\n",
              "       -3.10985939, -2.98292636, -2.85599332, -2.72906028, -2.60212725,\n",
              "       -2.47519421, -2.34826118, -2.22132814, -2.0943951 , -1.96746207,\n",
              "       -1.84052903, -1.71359599, -1.58666296, -1.45972992, -1.33279688,\n",
              "       -1.20586385, -1.07893081, -0.95199777, -0.82506474, -0.6981317 ,\n",
              "       -0.57119866, -0.44426563, -0.31733259, -0.19039955, -0.06346652,\n",
              "        0.06346652,  0.19039955,  0.31733259,  0.44426563,  0.57119866,\n",
              "        0.6981317 ,  0.82506474,  0.95199777,  1.07893081,  1.20586385,\n",
              "        1.33279688,  1.45972992,  1.58666296,  1.71359599,  1.84052903,\n",
              "        1.96746207,  2.0943951 ,  2.22132814,  2.34826118,  2.47519421,\n",
              "        2.60212725,  2.72906028,  2.85599332,  2.98292636,  3.10985939,\n",
              "        3.23679243,  3.36372547,  3.4906585 ,  3.61759154,  3.74452458,\n",
              "        3.87145761,  3.99839065,  4.12532369,  4.25225672,  4.37918976,\n",
              "        4.5061228 ,  4.63305583,  4.75998887,  4.88692191,  5.01385494,\n",
              "        5.14078798,  5.26772102,  5.39465405,  5.52158709,  5.64852012,\n",
              "        5.77545316,  5.9023862 ,  6.02931923,  6.15625227,  6.28318531])"
            ]
          },
          "metadata": {
            "tags": []
          },
          "execution_count": 156
        }
      ]
    },
    {
      "cell_type": "code",
      "metadata": {
        "id": "5UVliRY2Mel1",
        "colab_type": "code",
        "outputId": "40e60457-b56a-4615-90fe-f4fbb88747c1",
        "colab": {
          "base_uri": "https://localhost:8080/",
          "height": 0
        }
      },
      "source": [
        "#creacion del conjunto de puntos en y\n",
        "y = np.sin(x)\n",
        "y"
      ],
      "execution_count": 157,
      "outputs": [
        {
          "output_type": "execute_result",
          "data": {
            "text/plain": [
              "array([ 2.44929360e-16,  1.26592454e-01,  2.51147987e-01,  3.71662456e-01,\n",
              "        4.86196736e-01,  5.92907929e-01,  6.90079011e-01,  7.76146464e-01,\n",
              "        8.49725430e-01,  9.09631995e-01,  9.54902241e-01,  9.84807753e-01,\n",
              "        9.98867339e-01,  9.96854776e-01,  9.78802446e-01,  9.45000819e-01,\n",
              "        8.95993774e-01,  8.32569855e-01,  7.55749574e-01,  6.66769001e-01,\n",
              "        5.67059864e-01,  4.58226522e-01,  3.42020143e-01,  2.20310533e-01,\n",
              "        9.50560433e-02, -3.17279335e-02, -1.58001396e-01, -2.81732557e-01,\n",
              "       -4.00930535e-01, -5.13677392e-01, -6.18158986e-01, -7.12694171e-01,\n",
              "       -7.95761841e-01, -8.66025404e-01, -9.22354294e-01, -9.63842159e-01,\n",
              "       -9.89821442e-01, -9.99874128e-01, -9.93838464e-01, -9.71811568e-01,\n",
              "       -9.34147860e-01, -8.81453363e-01, -8.14575952e-01, -7.34591709e-01,\n",
              "       -6.42787610e-01, -5.40640817e-01, -4.29794912e-01, -3.12033446e-01,\n",
              "       -1.89251244e-01, -6.34239197e-02,  6.34239197e-02,  1.89251244e-01,\n",
              "        3.12033446e-01,  4.29794912e-01,  5.40640817e-01,  6.42787610e-01,\n",
              "        7.34591709e-01,  8.14575952e-01,  8.81453363e-01,  9.34147860e-01,\n",
              "        9.71811568e-01,  9.93838464e-01,  9.99874128e-01,  9.89821442e-01,\n",
              "        9.63842159e-01,  9.22354294e-01,  8.66025404e-01,  7.95761841e-01,\n",
              "        7.12694171e-01,  6.18158986e-01,  5.13677392e-01,  4.00930535e-01,\n",
              "        2.81732557e-01,  1.58001396e-01,  3.17279335e-02, -9.50560433e-02,\n",
              "       -2.20310533e-01, -3.42020143e-01, -4.58226522e-01, -5.67059864e-01,\n",
              "       -6.66769001e-01, -7.55749574e-01, -8.32569855e-01, -8.95993774e-01,\n",
              "       -9.45000819e-01, -9.78802446e-01, -9.96854776e-01, -9.98867339e-01,\n",
              "       -9.84807753e-01, -9.54902241e-01, -9.09631995e-01, -8.49725430e-01,\n",
              "       -7.76146464e-01, -6.90079011e-01, -5.92907929e-01, -4.86196736e-01,\n",
              "       -3.71662456e-01, -2.51147987e-01, -1.26592454e-01, -2.44929360e-16])"
            ]
          },
          "metadata": {
            "tags": []
          },
          "execution_count": 157
        }
      ]
    },
    {
      "cell_type": "code",
      "metadata": {
        "id": "-lsUFWrCtUgg",
        "colab_type": "code",
        "outputId": "2448bc0b-e170-458a-ae90-e0e3914aaffb",
        "colab": {
          "base_uri": "https://localhost:8080/",
          "height": 0
        }
      },
      "source": [
        "#Grafiquemos la funcion sin(x)\n",
        "plt.plot(x, y)"
      ],
      "execution_count": 158,
      "outputs": [
        {
          "output_type": "execute_result",
          "data": {
            "text/plain": [
              "[<matplotlib.lines.Line2D at 0x7fca2f85e390>]"
            ]
          },
          "metadata": {
            "tags": []
          },
          "execution_count": 158
        },
        {
          "output_type": "display_data",
          "data": {
            "image/png": "[encoded data removed]",
            "text/plain": [
              "<Figure size 432x288 with 1 Axes>"
            ]
          },
          "metadata": {
            "tags": []
          }
        }
      ]
    },
    {
      "cell_type": "code",
      "metadata": {
        "id": "JrUZP5-mg-wS",
        "colab_type": "code",
        "colab": {}
      },
      "source": [
        "plt.plot?"
      ],
      "execution_count": 0,
      "outputs": []
    },
    {
      "cell_type": "code",
      "metadata": {
        "id": "ltE475z1tUaf",
        "colab_type": "code",
        "outputId": "27b60442-8761-4598-e072-993d7a2f2692",
        "colab": {
          "base_uri": "https://localhost:8080/",
          "height": 0
        }
      },
      "source": [
        "#Grafiquemos la funcion cos(x) cambiando el formato usando parametros como markersize y alpha\n",
        "plt.plot(x , np.cos(x), 'om', markersize = 15, alpha = 0.5)"
      ],
      "execution_count": 160,
      "outputs": [
        {
          "output_type": "execute_result",
          "data": {
            "text/plain": [
              "[<matplotlib.lines.Line2D at 0x7fca2f7c52e8>]"
            ]
          },
          "metadata": {
            "tags": []
          },
          "execution_count": 160
        },
        {
          "output_type": "display_data",
          "data": {
            "image/png": "[encoded data removed]",
            "text/plain": [
              "<Figure size 432x288 with 1 Axes>"
            ]
          },
          "metadata": {
            "tags": []
          }
        }
      ]
    },
    {
      "cell_type": "code",
      "metadata": {
        "id": "pZX7PN0k0FDf",
        "colab_type": "code",
        "outputId": "f194b942-0d82-46bf-f1f2-4af6134f5015",
        "colab": {
          "base_uri": "https://localhost:8080/",
          "height": 0
        }
      },
      "source": [
        "#Grafiquemos la funcion sin(x) y demole nombre a los ejes, ademas demole un titulo a nuestro grafico\n",
        "plt.plot(x, np.sin(x), 'r--') \n",
        "plt.xlabel('Eje x') #Fijamos el nombre del eje x\n",
        "plt.ylabel('Eje y') #Fijamos el nombre del eje y\n",
        "plt.title('y = sin(x)') #se le da el titulo a nuestro grafico"
      ],
      "execution_count": 161,
      "outputs": [
        {
          "output_type": "execute_result",
          "data": {
            "text/plain": [
              "Text(0.5, 1.0, 'y = sin(x)')"
            ]
          },
          "metadata": {
            "tags": []
          },
          "execution_count": 161
        },
        {
          "output_type": "display_data",
          "data": {
            "image/png": "[encoded data removed]",
            "text/plain": [
              "<Figure size 432x288 with 1 Axes>"
            ]
          },
          "metadata": {
            "tags": []
          }
        }
      ]
    },
    {
      "cell_type": "code",
      "metadata": {
        "id": "mOBlFoxjtUXu",
        "colab_type": "code",
        "outputId": "c94415c3-5fe5-4991-ede5-4b1377da0836",
        "colab": {
          "base_uri": "https://localhost:8080/",
          "height": 0
        }
      },
      "source": [
        "#Graficar la funcion sin(x) y la funcion cos(x) en el mismo grafico\n",
        "plt.plot(x, np.sin(x), 'r--') #grafico de la funcion sin(x)\n",
        "plt.plot(x, np.cos(x), 'g*')  #grafico de la funcion cos(x)\n",
        "plt.xlabel('Eje x')\n",
        "plt.ylabel('Eje y')\n",
        "plt.title('y = sin(x)')"
      ],
      "execution_count": 162,
      "outputs": [
        {
          "output_type": "execute_result",
          "data": {
            "text/plain": [
              "Text(0.5, 1.0, 'y = sin(x)')"
            ]
          },
          "metadata": {
            "tags": []
          },
          "execution_count": 162
        },
        {
          "output_type": "display_data",
          "data": {
            "image/png": "[encoded data removed]",
            "text/plain": [
              "<Figure size 432x288 with 1 Axes>"
            ]
          },
          "metadata": {
            "tags": []
          }
        }
      ]
    },
    {
      "cell_type": "code",
      "metadata": {
        "id": "YUlNl2xMtUUo",
        "colab_type": "code",
        "outputId": "2f35827f-1cfa-4d2e-b09c-c655cf4d80a7",
        "colab": {
          "base_uri": "https://localhost:8080/",
          "height": 0
        }
      },
      "source": [
        "#Coloquemos la etiquetas correspondientes para cada grafica usando la funcion plt.legend()\n",
        "plt.plot(x, np.sin(x), 'r--')\n",
        "plt.plot(x, np.cos(x), 'g*')\n",
        "plt.xlabel('Eje x')\n",
        "plt.ylabel('Eje y')\n",
        "plt.title('y = sin(x)')\n",
        "plt.legend([\"sin(x)\", 'cos(x)'])"
      ],
      "execution_count": 163,
      "outputs": [
        {
          "output_type": "execute_result",
          "data": {
            "text/plain": [
              "<matplotlib.legend.Legend at 0x7fca2f67afd0>"
            ]
          },
          "metadata": {
            "tags": []
          },
          "execution_count": 163
        },
        {
          "output_type": "display_data",
          "data": {
            "image/png": "[encoded data removed]",
            "text/plain": [
              "<Figure size 432x288 with 1 Axes>"
            ]
          },
          "metadata": {
            "tags": []
          }
        }
      ]
    },
    {
      "cell_type": "markdown",
      "metadata": {
        "id": "jlVyD9S91v20",
        "colab_type": "text"
      },
      "source": [
        "## Ejercicios"
      ]
    },
    {
      "cell_type": "markdown",
      "metadata": {
        "id": "IK85-eLLNFrY",
        "colab_type": "text"
      },
      "source": [
        "1) graficar la funcion exponenecial $e^{x/10} + tan(x)$\n",
        "\n"
      ]
    },
    {
      "cell_type": "code",
      "metadata": {
        "id": "i4M2GFcStURs",
        "colab_type": "code",
        "colab": {}
      },
      "source": [
        ""
      ],
      "execution_count": 0,
      "outputs": []
    },
    {
      "cell_type": "markdown",
      "metadata": {
        "id": "oGvc-Q5zNZAH",
        "colab_type": "text"
      },
      "source": [
        "2) graficar la funcion exponenecial $e^{x/50} + tan(x)$ y en el mismo grafico , grafricar las funciones $e^x$ y $tan(x)$ ademas etiquete las tres funciones"
      ]
    },
    {
      "cell_type": "code",
      "metadata": {
        "id": "XTrSbPlttUOJ",
        "colab_type": "code",
        "colab": {}
      },
      "source": [
        ""
      ],
      "execution_count": 0,
      "outputs": []
    },
    {
      "cell_type": "markdown",
      "metadata": {
        "id": "X-ASh_VDU4uZ",
        "colab_type": "text"
      },
      "source": [
        "Para los siguientes dos ejercicios concidere la el conjunto de datos trabajo en clase llamado iris, el cual contiene medidas sobre algunas de las caracteristicas de distintas flores."
      ]
    },
    {
      "cell_type": "code",
      "metadata": {
        "id": "xt1iuYG0kQIf",
        "colab_type": "code",
        "colab": {}
      },
      "source": [
        "#librearia que contiene el conjunto de tados llamados iris usando la libreria sklear\n",
        "from sklearn.datasets import load_iris"
      ],
      "execution_count": 0,
      "outputs": []
    },
    {
      "cell_type": "code",
      "metadata": {
        "id": "USYNRIezldIg",
        "colab_type": "code",
        "colab": {}
      },
      "source": [
        "#utilizamos la funcion load_iris() para cargar los datos\n",
        "data = load_iris()"
      ],
      "execution_count": 0,
      "outputs": []
    },
    {
      "cell_type": "code",
      "metadata": {
        "id": "v32Slqo-iOZ8",
        "colab_type": "code",
        "colab": {
          "base_uri": "https://localhost:8080/",
          "height": 0
        },
        "outputId": "0bf60318-2bbd-4013-be28-1f6891de0e2d"
      },
      "source": [
        "data"
      ],
      "execution_count": 166,
      "outputs": [
        {
          "output_type": "execute_result",
          "data": {
            "text/plain": [
              "{'DESCR': '.. _iris_dataset:\\n\\nIris plants dataset\\n--------------------\\n\\n**Data Set Characteristics:**\\n\\n    :Number of Instances: 150 (50 in each of three classes)\\n    :Number of Attributes: 4 numeric, predictive attributes and the class\\n    :Attribute Information:\\n        - sepal length in cm\\n        - sepal width in cm\\n        - petal length in cm\\n        - petal width in cm\\n        - class:\\n                - Iris-Setosa\\n                - Iris-Versicolour\\n                - Iris-Virginica\\n                \\n    :Summary Statistics:\\n\\n    ============== ==== ==== ======= ===== ====================\\n                    Min  Max   Mean    SD   Class Correlation\\n    ============== ==== ==== ======= ===== ====================\\n    sepal length:   4.3  7.9   5.84   0.83    0.7826\\n    sepal width:    2.0  4.4   3.05   0.43   -0.4194\\n    petal length:   1.0  6.9   3.76   1.76    0.9490  (high!)\\n    petal width:    0.1  2.5   1.20   0.76    0.9565  (high!)\\n    ============== ==== ==== ======= ===== ====================\\n\\n    :Missing Attribute Values: None\\n    :Class Distribution: 33.3% for each of 3 classes.\\n    :Creator: R.A. Fisher\\n    :Donor: Michael Marshall (MARSHALL%PLU@io.arc.nasa.gov)\\n    :Date: July, 1988\\n\\nThe famous Iris database, first used by Sir R.A. Fisher. The dataset is taken\\nfrom Fisher\\'s paper. Note that it\\'s the same as in R, but not as in the UCI\\nMachine Learning Repository, which has two wrong data points.\\n\\nThis is perhaps the best known database to be found in the\\npattern recognition literature.  Fisher\\'s paper is a classic in the field and\\nis referenced frequently to this day.  (See Duda & Hart, for example.)  The\\ndata set contains 3 classes of 50 instances each, where each class refers to a\\ntype of iris plant.  One class is linearly separable from the other 2; the\\nlatter are NOT linearly separable from each other.\\n\\n.. topic:: References\\n\\n   - Fisher, R.A. \"The use of multiple measurements in taxonomic problems\"\\n     Annual Eugenics, 7, Part II, 179-188 (1936); also in \"Contributions to\\n     Mathematical Statistics\" (John Wiley, NY, 1950).\\n   - Duda, R.O., & Hart, P.E. (1973) Pattern Classification and Scene Analysis.\\n     (Q327.D83) John Wiley & Sons.  ISBN 0-471-22361-1.  See page 218.\\n   - Dasarathy, B.V. (1980) \"Nosing Around the Neighborhood: A New System\\n     Structure and Classification Rule for Recognition in Partially Exposed\\n     Environments\".  IEEE Transactions on Pattern Analysis and Machine\\n     Intelligence, Vol. PAMI-2, No. 1, 67-71.\\n   - Gates, G.W. (1972) \"The Reduced Nearest Neighbor Rule\".  IEEE Transactions\\n     on Information Theory, May 1972, 431-433.\\n   - See also: 1988 MLC Proceedings, 54-64.  Cheeseman et al\"s AUTOCLASS II\\n     conceptual clustering system finds 3 classes in the data.\\n   - Many, many more ...',\n",
              " 'data': array([[5.1, 3.5, 1.4, 0.2],\n",
              "        [4.9, 3. , 1.4, 0.2],\n",
              "        [4.7, 3.2, 1.3, 0.2],\n",
              "        [4.6, 3.1, 1.5, 0.2],\n",
              "        [5. , 3.6, 1.4, 0.2],\n",
              "        [5.4, 3.9, 1.7, 0.4],\n",
              "        [4.6, 3.4, 1.4, 0.3],\n",
              "        [5. , 3.4, 1.5, 0.2],\n",
              "        [4.4, 2.9, 1.4, 0.2],\n",
              "        [4.9, 3.1, 1.5, 0.1],\n",
              "        [5.4, 3.7, 1.5, 0.2],\n",
              "        [4.8, 3.4, 1.6, 0.2],\n",
              "        [4.8, 3. , 1.4, 0.1],\n",
              "        [4.3, 3. , 1.1, 0.1],\n",
              "        [5.8, 4. , 1.2, 0.2],\n",
              "        [5.7, 4.4, 1.5, 0.4],\n",
              "        [5.4, 3.9, 1.3, 0.4],\n",
              "        [5.1, 3.5, 1.4, 0.3],\n",
              "        [5.7, 3.8, 1.7, 0.3],\n",
              "        [5.1, 3.8, 1.5, 0.3],\n",
              "        [5.4, 3.4, 1.7, 0.2],\n",
              "        [5.1, 3.7, 1.5, 0.4],\n",
              "        [4.6, 3.6, 1. , 0.2],\n",
              "        [5.1, 3.3, 1.7, 0.5],\n",
              "        [4.8, 3.4, 1.9, 0.2],\n",
              "        [5. , 3. , 1.6, 0.2],\n",
              "        [5. , 3.4, 1.6, 0.4],\n",
              "        [5.2, 3.5, 1.5, 0.2],\n",
              "        [5.2, 3.4, 1.4, 0.2],\n",
              "        [4.7, 3.2, 1.6, 0.2],\n",
              "        [4.8, 3.1, 1.6, 0.2],\n",
              "        [5.4, 3.4, 1.5, 0.4],\n",
              "        [5.2, 4.1, 1.5, 0.1],\n",
              "        [5.5, 4.2, 1.4, 0.2],\n",
              "        [4.9, 3.1, 1.5, 0.2],\n",
              "        [5. , 3.2, 1.2, 0.2],\n",
              "        [5.5, 3.5, 1.3, 0.2],\n",
              "        [4.9, 3.6, 1.4, 0.1],\n",
              "        [4.4, 3. , 1.3, 0.2],\n",
              "        [5.1, 3.4, 1.5, 0.2],\n",
              "        [5. , 3.5, 1.3, 0.3],\n",
              "        [4.5, 2.3, 1.3, 0.3],\n",
              "        [4.4, 3.2, 1.3, 0.2],\n",
              "        [5. , 3.5, 1.6, 0.6],\n",
              "        [5.1, 3.8, 1.9, 0.4],\n",
              "        [4.8, 3. , 1.4, 0.3],\n",
              "        [5.1, 3.8, 1.6, 0.2],\n",
              "        [4.6, 3.2, 1.4, 0.2],\n",
              "        [5.3, 3.7, 1.5, 0.2],\n",
              "        [5. , 3.3, 1.4, 0.2],\n",
              "        [7. , 3.2, 4.7, 1.4],\n",
              "        [6.4, 3.2, 4.5, 1.5],\n",
              "        [6.9, 3.1, 4.9, 1.5],\n",
              "        [5.5, 2.3, 4. , 1.3],\n",
              "        [6.5, 2.8, 4.6, 1.5],\n",
              "        [5.7, 2.8, 4.5, 1.3],\n",
              "        [6.3, 3.3, 4.7, 1.6],\n",
              "        [4.9, 2.4, 3.3, 1. ],\n",
              "        [6.6, 2.9, 4.6, 1.3],\n",
              "        [5.2, 2.7, 3.9, 1.4],\n",
              "        [5. , 2. , 3.5, 1. ],\n",
              "        [5.9, 3. , 4.2, 1.5],\n",
              "        [6. , 2.2, 4. , 1. ],\n",
              "        [6.1, 2.9, 4.7, 1.4],\n",
              "        [5.6, 2.9, 3.6, 1.3],\n",
              "        [6.7, 3.1, 4.4, 1.4],\n",
              "        [5.6, 3. , 4.5, 1.5],\n",
              "        [5.8, 2.7, 4.1, 1. ],\n",
              "        [6.2, 2.2, 4.5, 1.5],\n",
              "        [5.6, 2.5, 3.9, 1.1],\n",
              "        [5.9, 3.2, 4.8, 1.8],\n",
              "        [6.1, 2.8, 4. , 1.3],\n",
              "        [6.3, 2.5, 4.9, 1.5],\n",
              "        [6.1, 2.8, 4.7, 1.2],\n",
              "        [6.4, 2.9, 4.3, 1.3],\n",
              "        [6.6, 3. , 4.4, 1.4],\n",
              "        [6.8, 2.8, 4.8, 1.4],\n",
              "        [6.7, 3. , 5. , 1.7],\n",
              "        [6. , 2.9, 4.5, 1.5],\n",
              "        [5.7, 2.6, 3.5, 1. ],\n",
              "        [5.5, 2.4, 3.8, 1.1],\n",
              "        [5.5, 2.4, 3.7, 1. ],\n",
              "        [5.8, 2.7, 3.9, 1.2],\n",
              "        [6. , 2.7, 5.1, 1.6],\n",
              "        [5.4, 3. , 4.5, 1.5],\n",
              "        [6. , 3.4, 4.5, 1.6],\n",
              "        [6.7, 3.1, 4.7, 1.5],\n",
              "        [6.3, 2.3, 4.4, 1.3],\n",
              "        [5.6, 3. , 4.1, 1.3],\n",
              "        [5.5, 2.5, 4. , 1.3],\n",
              "        [5.5, 2.6, 4.4, 1.2],\n",
              "        [6.1, 3. , 4.6, 1.4],\n",
              "        [5.8, 2.6, 4. , 1.2],\n",
              "        [5. , 2.3, 3.3, 1. ],\n",
              "        [5.6, 2.7, 4.2, 1.3],\n",
              "        [5.7, 3. , 4.2, 1.2],\n",
              "        [5.7, 2.9, 4.2, 1.3],\n",
              "        [6.2, 2.9, 4.3, 1.3],\n",
              "        [5.1, 2.5, 3. , 1.1],\n",
              "        [5.7, 2.8, 4.1, 1.3],\n",
              "        [6.3, 3.3, 6. , 2.5],\n",
              "        [5.8, 2.7, 5.1, 1.9],\n",
              "        [7.1, 3. , 5.9, 2.1],\n",
              "        [6.3, 2.9, 5.6, 1.8],\n",
              "        [6.5, 3. , 5.8, 2.2],\n",
              "        [7.6, 3. , 6.6, 2.1],\n",
              "        [4.9, 2.5, 4.5, 1.7],\n",
              "        [7.3, 2.9, 6.3, 1.8],\n",
              "        [6.7, 2.5, 5.8, 1.8],\n",
              "        [7.2, 3.6, 6.1, 2.5],\n",
              "        [6.5, 3.2, 5.1, 2. ],\n",
              "        [6.4, 2.7, 5.3, 1.9],\n",
              "        [6.8, 3. , 5.5, 2.1],\n",
              "        [5.7, 2.5, 5. , 2. ],\n",
              "        [5.8, 2.8, 5.1, 2.4],\n",
              "        [6.4, 3.2, 5.3, 2.3],\n",
              "        [6.5, 3. , 5.5, 1.8],\n",
              "        [7.7, 3.8, 6.7, 2.2],\n",
              "        [7.7, 2.6, 6.9, 2.3],\n",
              "        [6. , 2.2, 5. , 1.5],\n",
              "        [6.9, 3.2, 5.7, 2.3],\n",
              "        [5.6, 2.8, 4.9, 2. ],\n",
              "        [7.7, 2.8, 6.7, 2. ],\n",
              "        [6.3, 2.7, 4.9, 1.8],\n",
              "        [6.7, 3.3, 5.7, 2.1],\n",
              "        [7.2, 3.2, 6. , 1.8],\n",
              "        [6.2, 2.8, 4.8, 1.8],\n",
              "        [6.1, 3. , 4.9, 1.8],\n",
              "        [6.4, 2.8, 5.6, 2.1],\n",
              "        [7.2, 3. , 5.8, 1.6],\n",
              "        [7.4, 2.8, 6.1, 1.9],\n",
              "        [7.9, 3.8, 6.4, 2. ],\n",
              "        [6.4, 2.8, 5.6, 2.2],\n",
              "        [6.3, 2.8, 5.1, 1.5],\n",
              "        [6.1, 2.6, 5.6, 1.4],\n",
              "        [7.7, 3. , 6.1, 2.3],\n",
              "        [6.3, 3.4, 5.6, 2.4],\n",
              "        [6.4, 3.1, 5.5, 1.8],\n",
              "        [6. , 3. , 4.8, 1.8],\n",
              "        [6.9, 3.1, 5.4, 2.1],\n",
              "        [6.7, 3.1, 5.6, 2.4],\n",
              "        [6.9, 3.1, 5.1, 2.3],\n",
              "        [5.8, 2.7, 5.1, 1.9],\n",
              "        [6.8, 3.2, 5.9, 2.3],\n",
              "        [6.7, 3.3, 5.7, 2.5],\n",
              "        [6.7, 3. , 5.2, 2.3],\n",
              "        [6.3, 2.5, 5. , 1.9],\n",
              "        [6.5, 3. , 5.2, 2. ],\n",
              "        [6.2, 3.4, 5.4, 2.3],\n",
              "        [5.9, 3. , 5.1, 1.8]]),\n",
              " 'feature_names': ['sepal length (cm)',\n",
              "  'sepal width (cm)',\n",
              "  'petal length (cm)',\n",
              "  'petal width (cm)'],\n",
              " 'filename': '/usr/local/lib/python3.6/dist-packages/sklearn/datasets/data/iris.csv',\n",
              " 'target': array([0, 0, 0, 0, 0, 0, 0, 0, 0, 0, 0, 0, 0, 0, 0, 0, 0, 0, 0, 0, 0, 0,\n",
              "        0, 0, 0, 0, 0, 0, 0, 0, 0, 0, 0, 0, 0, 0, 0, 0, 0, 0, 0, 0, 0, 0,\n",
              "        0, 0, 0, 0, 0, 0, 1, 1, 1, 1, 1, 1, 1, 1, 1, 1, 1, 1, 1, 1, 1, 1,\n",
              "        1, 1, 1, 1, 1, 1, 1, 1, 1, 1, 1, 1, 1, 1, 1, 1, 1, 1, 1, 1, 1, 1,\n",
              "        1, 1, 1, 1, 1, 1, 1, 1, 1, 1, 1, 1, 2, 2, 2, 2, 2, 2, 2, 2, 2, 2,\n",
              "        2, 2, 2, 2, 2, 2, 2, 2, 2, 2, 2, 2, 2, 2, 2, 2, 2, 2, 2, 2, 2, 2,\n",
              "        2, 2, 2, 2, 2, 2, 2, 2, 2, 2, 2, 2, 2, 2, 2, 2, 2, 2]),\n",
              " 'target_names': array(['setosa', 'versicolor', 'virginica'], dtype='<U10')}"
            ]
          },
          "metadata": {
            "tags": []
          },
          "execution_count": 166
        }
      ]
    },
    {
      "cell_type": "code",
      "metadata": {
        "id": "sayJKGdklrbM",
        "colab_type": "code",
        "outputId": "594bfe97-0347-44cf-9b6f-ec61a9bdcbb2",
        "colab": {
          "base_uri": "https://localhost:8080/",
          "height": 0
        }
      },
      "source": [
        "#Inspecciones un poco los datos , tenga encuenta que los datos vienen en forma de diccionariopr\n",
        "data.keys()"
      ],
      "execution_count": 167,
      "outputs": [
        {
          "output_type": "execute_result",
          "data": {
            "text/plain": [
              "dict_keys(['data', 'target', 'target_names', 'DESCR', 'feature_names', 'filename'])"
            ]
          },
          "metadata": {
            "tags": []
          },
          "execution_count": 167
        }
      ]
    },
    {
      "cell_type": "code",
      "metadata": {
        "id": "DrcxpC_Cl2Jk",
        "colab_type": "code",
        "outputId": "8afae61c-f5ee-478c-8906-55d6b1612712",
        "colab": {
          "base_uri": "https://localhost:8080/",
          "height": 0
        }
      },
      "source": [
        "#veamos la descripcion del data set\n",
        "print(data['DESCR'])"
      ],
      "execution_count": 168,
      "outputs": [
        {
          "output_type": "stream",
          "text": [
            ".. _iris_dataset:\n",
            "\n",
            "Iris plants dataset\n",
            "--------------------\n",
            "\n",
            "**Data Set Characteristics:**\n",
            "\n",
            "    :Number of Instances: 150 (50 in each of three classes)\n",
            "    :Number of Attributes: 4 numeric, predictive attributes and the class\n",
            "    :Attribute Information:\n",
            "        - sepal length in cm\n",
            "        - sepal width in cm\n",
            "        - petal length in cm\n",
            "        - petal width in cm\n",
            "        - class:\n",
            "                - Iris-Setosa\n",
            "                - Iris-Versicolour\n",
            "                - Iris-Virginica\n",
            "                \n",
            "    :Summary Statistics:\n",
            "\n",
            "    ============== ==== ==== ======= ===== ====================\n",
            "                    Min  Max   Mean    SD   Class Correlation\n",
            "    ============== ==== ==== ======= ===== ====================\n",
            "    sepal length:   4.3  7.9   5.84   0.83    0.7826\n",
            "    sepal width:    2.0  4.4   3.05   0.43   -0.4194\n",
            "    petal length:   1.0  6.9   3.76   1.76    0.9490  (high!)\n",
            "    petal width:    0.1  2.5   1.20   0.76    0.9565  (high!)\n",
            "    ============== ==== ==== ======= ===== ====================\n",
            "\n",
            "    :Missing Attribute Values: None\n",
            "    :Class Distribution: 33.3% for each of 3 classes.\n",
            "    :Creator: R.A. Fisher\n",
            "    :Donor: Michael Marshall (MARSHALL%PLU@io.arc.nasa.gov)\n",
            "    :Date: July, 1988\n",
            "\n",
            "The famous Iris database, first used by Sir R.A. Fisher. The dataset is taken\n",
            "from Fisher's paper. Note that it's the same as in R, but not as in the UCI\n",
            "Machine Learning Repository, which has two wrong data points.\n",
            "\n",
            "This is perhaps the best known database to be found in the\n",
            "pattern recognition literature.  Fisher's paper is a classic in the field and\n",
            "is referenced frequently to this day.  (See Duda & Hart, for example.)  The\n",
            "data set contains 3 classes of 50 instances each, where each class refers to a\n",
            "type of iris plant.  One class is linearly separable from the other 2; the\n",
            "latter are NOT linearly separable from each other.\n",
            "\n",
            ".. topic:: References\n",
            "\n",
            "   - Fisher, R.A. \"The use of multiple measurements in taxonomic problems\"\n",
            "     Annual Eugenics, 7, Part II, 179-188 (1936); also in \"Contributions to\n",
            "     Mathematical Statistics\" (John Wiley, NY, 1950).\n",
            "   - Duda, R.O., & Hart, P.E. (1973) Pattern Classification and Scene Analysis.\n",
            "     (Q327.D83) John Wiley & Sons.  ISBN 0-471-22361-1.  See page 218.\n",
            "   - Dasarathy, B.V. (1980) \"Nosing Around the Neighborhood: A New System\n",
            "     Structure and Classification Rule for Recognition in Partially Exposed\n",
            "     Environments\".  IEEE Transactions on Pattern Analysis and Machine\n",
            "     Intelligence, Vol. PAMI-2, No. 1, 67-71.\n",
            "   - Gates, G.W. (1972) \"The Reduced Nearest Neighbor Rule\".  IEEE Transactions\n",
            "     on Information Theory, May 1972, 431-433.\n",
            "   - See also: 1988 MLC Proceedings, 54-64.  Cheeseman et al\"s AUTOCLASS II\n",
            "     conceptual clustering system finds 3 classes in the data.\n",
            "   - Many, many more ...\n"
          ],
          "name": "stdout"
        }
      ]
    },
    {
      "cell_type": "code",
      "metadata": {
        "id": "5tRpxT0umvYn",
        "colab_type": "code",
        "outputId": "a6dc191a-3423-48d2-fca9-970c16475aaf",
        "colab": {
          "base_uri": "https://localhost:8080/",
          "height": 0
        }
      },
      "source": [
        "#veamos el nombre de las caracteristicas\n",
        "data['feature_names']"
      ],
      "execution_count": 169,
      "outputs": [
        {
          "output_type": "execute_result",
          "data": {
            "text/plain": [
              "['sepal length (cm)',\n",
              " 'sepal width (cm)',\n",
              " 'petal length (cm)',\n",
              " 'petal width (cm)']"
            ]
          },
          "metadata": {
            "tags": []
          },
          "execution_count": 169
        }
      ]
    },
    {
      "cell_type": "code",
      "metadata": {
        "id": "Mgvnkss8iga4",
        "colab_type": "code",
        "outputId": "c87c6f3d-ecf0-4631-cdc7-42a4f9c1da70",
        "colab": {
          "base_uri": "https://localhost:8080/",
          "height": 0
        }
      },
      "source": [
        "#ahora veamos la matriz que contiene nuestras caracteristicas \n",
        "data['data']"
      ],
      "execution_count": 170,
      "outputs": [
        {
          "output_type": "execute_result",
          "data": {
            "text/plain": [
              "array([[5.1, 3.5, 1.4, 0.2],\n",
              "       [4.9, 3. , 1.4, 0.2],\n",
              "       [4.7, 3.2, 1.3, 0.2],\n",
              "       [4.6, 3.1, 1.5, 0.2],\n",
              "       [5. , 3.6, 1.4, 0.2],\n",
              "       [5.4, 3.9, 1.7, 0.4],\n",
              "       [4.6, 3.4, 1.4, 0.3],\n",
              "       [5. , 3.4, 1.5, 0.2],\n",
              "       [4.4, 2.9, 1.4, 0.2],\n",
              "       [4.9, 3.1, 1.5, 0.1],\n",
              "       [5.4, 3.7, 1.5, 0.2],\n",
              "       [4.8, 3.4, 1.6, 0.2],\n",
              "       [4.8, 3. , 1.4, 0.1],\n",
              "       [4.3, 3. , 1.1, 0.1],\n",
              "       [5.8, 4. , 1.2, 0.2],\n",
              "       [5.7, 4.4, 1.5, 0.4],\n",
              "       [5.4, 3.9, 1.3, 0.4],\n",
              "       [5.1, 3.5, 1.4, 0.3],\n",
              "       [5.7, 3.8, 1.7, 0.3],\n",
              "       [5.1, 3.8, 1.5, 0.3],\n",
              "       [5.4, 3.4, 1.7, 0.2],\n",
              "       [5.1, 3.7, 1.5, 0.4],\n",
              "       [4.6, 3.6, 1. , 0.2],\n",
              "       [5.1, 3.3, 1.7, 0.5],\n",
              "       [4.8, 3.4, 1.9, 0.2],\n",
              "       [5. , 3. , 1.6, 0.2],\n",
              "       [5. , 3.4, 1.6, 0.4],\n",
              "       [5.2, 3.5, 1.5, 0.2],\n",
              "       [5.2, 3.4, 1.4, 0.2],\n",
              "       [4.7, 3.2, 1.6, 0.2],\n",
              "       [4.8, 3.1, 1.6, 0.2],\n",
              "       [5.4, 3.4, 1.5, 0.4],\n",
              "       [5.2, 4.1, 1.5, 0.1],\n",
              "       [5.5, 4.2, 1.4, 0.2],\n",
              "       [4.9, 3.1, 1.5, 0.2],\n",
              "       [5. , 3.2, 1.2, 0.2],\n",
              "       [5.5, 3.5, 1.3, 0.2],\n",
              "       [4.9, 3.6, 1.4, 0.1],\n",
              "       [4.4, 3. , 1.3, 0.2],\n",
              "       [5.1, 3.4, 1.5, 0.2],\n",
              "       [5. , 3.5, 1.3, 0.3],\n",
              "       [4.5, 2.3, 1.3, 0.3],\n",
              "       [4.4, 3.2, 1.3, 0.2],\n",
              "       [5. , 3.5, 1.6, 0.6],\n",
              "       [5.1, 3.8, 1.9, 0.4],\n",
              "       [4.8, 3. , 1.4, 0.3],\n",
              "       [5.1, 3.8, 1.6, 0.2],\n",
              "       [4.6, 3.2, 1.4, 0.2],\n",
              "       [5.3, 3.7, 1.5, 0.2],\n",
              "       [5. , 3.3, 1.4, 0.2],\n",
              "       [7. , 3.2, 4.7, 1.4],\n",
              "       [6.4, 3.2, 4.5, 1.5],\n",
              "       [6.9, 3.1, 4.9, 1.5],\n",
              "       [5.5, 2.3, 4. , 1.3],\n",
              "       [6.5, 2.8, 4.6, 1.5],\n",
              "       [5.7, 2.8, 4.5, 1.3],\n",
              "       [6.3, 3.3, 4.7, 1.6],\n",
              "       [4.9, 2.4, 3.3, 1. ],\n",
              "       [6.6, 2.9, 4.6, 1.3],\n",
              "       [5.2, 2.7, 3.9, 1.4],\n",
              "       [5. , 2. , 3.5, 1. ],\n",
              "       [5.9, 3. , 4.2, 1.5],\n",
              "       [6. , 2.2, 4. , 1. ],\n",
              "       [6.1, 2.9, 4.7, 1.4],\n",
              "       [5.6, 2.9, 3.6, 1.3],\n",
              "       [6.7, 3.1, 4.4, 1.4],\n",
              "       [5.6, 3. , 4.5, 1.5],\n",
              "       [5.8, 2.7, 4.1, 1. ],\n",
              "       [6.2, 2.2, 4.5, 1.5],\n",
              "       [5.6, 2.5, 3.9, 1.1],\n",
              "       [5.9, 3.2, 4.8, 1.8],\n",
              "       [6.1, 2.8, 4. , 1.3],\n",
              "       [6.3, 2.5, 4.9, 1.5],\n",
              "       [6.1, 2.8, 4.7, 1.2],\n",
              "       [6.4, 2.9, 4.3, 1.3],\n",
              "       [6.6, 3. , 4.4, 1.4],\n",
              "       [6.8, 2.8, 4.8, 1.4],\n",
              "       [6.7, 3. , 5. , 1.7],\n",
              "       [6. , 2.9, 4.5, 1.5],\n",
              "       [5.7, 2.6, 3.5, 1. ],\n",
              "       [5.5, 2.4, 3.8, 1.1],\n",
              "       [5.5, 2.4, 3.7, 1. ],\n",
              "       [5.8, 2.7, 3.9, 1.2],\n",
              "       [6. , 2.7, 5.1, 1.6],\n",
              "       [5.4, 3. , 4.5, 1.5],\n",
              "       [6. , 3.4, 4.5, 1.6],\n",
              "       [6.7, 3.1, 4.7, 1.5],\n",
              "       [6.3, 2.3, 4.4, 1.3],\n",
              "       [5.6, 3. , 4.1, 1.3],\n",
              "       [5.5, 2.5, 4. , 1.3],\n",
              "       [5.5, 2.6, 4.4, 1.2],\n",
              "       [6.1, 3. , 4.6, 1.4],\n",
              "       [5.8, 2.6, 4. , 1.2],\n",
              "       [5. , 2.3, 3.3, 1. ],\n",
              "       [5.6, 2.7, 4.2, 1.3],\n",
              "       [5.7, 3. , 4.2, 1.2],\n",
              "       [5.7, 2.9, 4.2, 1.3],\n",
              "       [6.2, 2.9, 4.3, 1.3],\n",
              "       [5.1, 2.5, 3. , 1.1],\n",
              "       [5.7, 2.8, 4.1, 1.3],\n",
              "       [6.3, 3.3, 6. , 2.5],\n",
              "       [5.8, 2.7, 5.1, 1.9],\n",
              "       [7.1, 3. , 5.9, 2.1],\n",
              "       [6.3, 2.9, 5.6, 1.8],\n",
              "       [6.5, 3. , 5.8, 2.2],\n",
              "       [7.6, 3. , 6.6, 2.1],\n",
              "       [4.9, 2.5, 4.5, 1.7],\n",
              "       [7.3, 2.9, 6.3, 1.8],\n",
              "       [6.7, 2.5, 5.8, 1.8],\n",
              "       [7.2, 3.6, 6.1, 2.5],\n",
              "       [6.5, 3.2, 5.1, 2. ],\n",
              "       [6.4, 2.7, 5.3, 1.9],\n",
              "       [6.8, 3. , 5.5, 2.1],\n",
              "       [5.7, 2.5, 5. , 2. ],\n",
              "       [5.8, 2.8, 5.1, 2.4],\n",
              "       [6.4, 3.2, 5.3, 2.3],\n",
              "       [6.5, 3. , 5.5, 1.8],\n",
              "       [7.7, 3.8, 6.7, 2.2],\n",
              "       [7.7, 2.6, 6.9, 2.3],\n",
              "       [6. , 2.2, 5. , 1.5],\n",
              "       [6.9, 3.2, 5.7, 2.3],\n",
              "       [5.6, 2.8, 4.9, 2. ],\n",
              "       [7.7, 2.8, 6.7, 2. ],\n",
              "       [6.3, 2.7, 4.9, 1.8],\n",
              "       [6.7, 3.3, 5.7, 2.1],\n",
              "       [7.2, 3.2, 6. , 1.8],\n",
              "       [6.2, 2.8, 4.8, 1.8],\n",
              "       [6.1, 3. , 4.9, 1.8],\n",
              "       [6.4, 2.8, 5.6, 2.1],\n",
              "       [7.2, 3. , 5.8, 1.6],\n",
              "       [7.4, 2.8, 6.1, 1.9],\n",
              "       [7.9, 3.8, 6.4, 2. ],\n",
              "       [6.4, 2.8, 5.6, 2.2],\n",
              "       [6.3, 2.8, 5.1, 1.5],\n",
              "       [6.1, 2.6, 5.6, 1.4],\n",
              "       [7.7, 3. , 6.1, 2.3],\n",
              "       [6.3, 3.4, 5.6, 2.4],\n",
              "       [6.4, 3.1, 5.5, 1.8],\n",
              "       [6. , 3. , 4.8, 1.8],\n",
              "       [6.9, 3.1, 5.4, 2.1],\n",
              "       [6.7, 3.1, 5.6, 2.4],\n",
              "       [6.9, 3.1, 5.1, 2.3],\n",
              "       [5.8, 2.7, 5.1, 1.9],\n",
              "       [6.8, 3.2, 5.9, 2.3],\n",
              "       [6.7, 3.3, 5.7, 2.5],\n",
              "       [6.7, 3. , 5.2, 2.3],\n",
              "       [6.3, 2.5, 5. , 1.9],\n",
              "       [6.5, 3. , 5.2, 2. ],\n",
              "       [6.2, 3.4, 5.4, 2.3],\n",
              "       [5.9, 3. , 5.1, 1.8]])"
            ]
          },
          "metadata": {
            "tags": []
          },
          "execution_count": 170
        }
      ]
    },
    {
      "cell_type": "code",
      "metadata": {
        "id": "vDSWWLRLWJQJ",
        "colab_type": "code",
        "outputId": "91d4a1a5-5e11-48de-c03d-a54a7568ee49",
        "colab": {
          "base_uri": "https://localhost:8080/",
          "height": 0
        }
      },
      "source": [
        "#veamos el nombre de nuestras etiquetas, esto es el nombre de las flores\n",
        "data['target_names']"
      ],
      "execution_count": 171,
      "outputs": [
        {
          "output_type": "execute_result",
          "data": {
            "text/plain": [
              "array(['setosa', 'versicolor', 'virginica'], dtype='<U10')"
            ]
          },
          "metadata": {
            "tags": []
          },
          "execution_count": 171
        }
      ]
    },
    {
      "cell_type": "code",
      "metadata": {
        "id": "Yg4yoMsQizO4",
        "colab_type": "code",
        "outputId": "02c049ef-5e0c-41b2-ef55-b68cb57b906c",
        "colab": {
          "base_uri": "https://localhost:8080/",
          "height": 0
        }
      },
      "source": [
        "#Ahora vemos de forma numerica el arreglo que contiene los diferentes tipos de flores \n",
        "data['target']"
      ],
      "execution_count": 172,
      "outputs": [
        {
          "output_type": "execute_result",
          "data": {
            "text/plain": [
              "array([0, 0, 0, 0, 0, 0, 0, 0, 0, 0, 0, 0, 0, 0, 0, 0, 0, 0, 0, 0, 0, 0,\n",
              "       0, 0, 0, 0, 0, 0, 0, 0, 0, 0, 0, 0, 0, 0, 0, 0, 0, 0, 0, 0, 0, 0,\n",
              "       0, 0, 0, 0, 0, 0, 1, 1, 1, 1, 1, 1, 1, 1, 1, 1, 1, 1, 1, 1, 1, 1,\n",
              "       1, 1, 1, 1, 1, 1, 1, 1, 1, 1, 1, 1, 1, 1, 1, 1, 1, 1, 1, 1, 1, 1,\n",
              "       1, 1, 1, 1, 1, 1, 1, 1, 1, 1, 1, 1, 2, 2, 2, 2, 2, 2, 2, 2, 2, 2,\n",
              "       2, 2, 2, 2, 2, 2, 2, 2, 2, 2, 2, 2, 2, 2, 2, 2, 2, 2, 2, 2, 2, 2,\n",
              "       2, 2, 2, 2, 2, 2, 2, 2, 2, 2, 2, 2, 2, 2, 2, 2, 2, 2])"
            ]
          },
          "metadata": {
            "tags": []
          },
          "execution_count": 172
        }
      ]
    },
    {
      "cell_type": "code",
      "metadata": {
        "id": "s0iqQF0Amb3b",
        "colab_type": "code",
        "colab": {}
      },
      "source": [
        "#para fines practicos, vamos a separar solo dos caracteristicas estas son 'sepal length' y 'sepal width' que correspones con la primera y \n",
        "#segunda columna del arreglo 2d que contienen nuestros datos \n",
        "X = data['data'][:, [0,1]] #IMPORTATE: NOTE QUE A LA MATRI LA EMOS ASIGNADO A LA VARIABLE X MAYUSCULA, PORFAVOR NO RESCRIBA ESTA VARIABLE "
      ],
      "execution_count": 0,
      "outputs": []
    },
    {
      "cell_type": "markdown",
      "metadata": {
        "id": "keJ2pD4mj0R-",
        "colab_type": "text"
      },
      "source": [
        "3) usando la funcion plt.plot graficar 'sepal length' y 'sepal weight' (esto es, las caracteristicas previamente extraidas ) del conjunto de datos del iris_dataset"
      ]
    },
    {
      "cell_type": "code",
      "metadata": {
        "id": "xzaqAO-bjz_1",
        "colab_type": "code",
        "colab": {}
      },
      "source": [
        ""
      ],
      "execution_count": 0,
      "outputs": []
    },
    {
      "cell_type": "markdown",
      "metadata": {
        "id": "Ff0AZRn0V2-E",
        "colab_type": "text"
      },
      "source": [
        "4) ***EJERCICO RETO***  Realice el mimso grafico del punto anterior, pero ahora pinte de un color diferente los puntos que correspondan a flores diferentes"
      ]
    },
    {
      "cell_type": "code",
      "metadata": {
        "id": "nE0j-ntfV2lO",
        "colab_type": "code",
        "colab": {}
      },
      "source": [
        ""
      ],
      "execution_count": 0,
      "outputs": []
    },
    {
      "cell_type": "markdown",
      "metadata": {
        "id": "Il2yVyVzUf9K",
        "colab_type": "text"
      },
      "source": [
        "## Graficos de dispersion\n"
      ]
    },
    {
      "cell_type": "markdown",
      "metadata": {
        "id": "5_GKmjkGj50h",
        "colab_type": "text"
      },
      "source": [
        "Loas graficos de dispercion pueden ser implementados usando la funcion plt.scatter"
      ]
    },
    {
      "cell_type": "code",
      "metadata": {
        "id": "SBlL3eFqVfkk",
        "colab_type": "code",
        "outputId": "5abc967d-260c-42f0-ebd6-d6e203f6a7d9",
        "colab": {
          "base_uri": "https://localhost:8080/",
          "height": 0
        }
      },
      "source": [
        "#realicemos la grafica del seno usando plt.scatter\n",
        "x = np.linspace(-2*np.pi,2*np.pi, 100)\n",
        "y = np.sin(x)\n",
        "plt.scatter(x, y)"
      ],
      "execution_count": 174,
      "outputs": [
        {
          "output_type": "execute_result",
          "data": {
            "text/plain": [
              "<matplotlib.collections.PathCollection at 0x7fca2f81f4a8>"
            ]
          },
          "metadata": {
            "tags": []
          },
          "execution_count": 174
        },
        {
          "output_type": "display_data",
          "data": {
            "image/png": "[encoded data removed]",
            "text/plain": [
              "<Figure size 432x288 with 1 Axes>"
            ]
          },
          "metadata": {
            "tags": []
          }
        }
      ]
    },
    {
      "cell_type": "markdown",
      "metadata": {
        "id": "MEKBcFjIkMZh",
        "colab_type": "text"
      },
      "source": [
        "Ahora pongamos una condicion sobre los valores de y, esto es vamos a crear unas etiquetas "
      ]
    },
    {
      "cell_type": "code",
      "metadata": {
        "id": "aZ6msJgUVfTu",
        "colab_type": "code",
        "outputId": "ba3e3f99-acb0-40f8-a121-2d1ee98962d2",
        "colab": {
          "base_uri": "https://localhost:8080/",
          "height": 0
        }
      },
      "source": [
        "#Creamos unas etiquetas usando la condicion de que los valores de y > 0 tengan la etiqueta 1 y lo valores de y < 0 tengan la etiqueta 0 \n",
        "clf = (y > 0)*1 # la condicion y > 0 nos genera un arreglo buleano , y al multiplocarlo por uno python reconoce los True como 1 y los False como ceros\n",
        "clf"
      ],
      "execution_count": 175,
      "outputs": [
        {
          "output_type": "execute_result",
          "data": {
            "text/plain": [
              "array([1, 1, 1, 1, 1, 1, 1, 1, 1, 1, 1, 1, 1, 1, 1, 1, 1, 1, 1, 1, 1, 1,\n",
              "       1, 1, 1, 0, 0, 0, 0, 0, 0, 0, 0, 0, 0, 0, 0, 0, 0, 0, 0, 0, 0, 0,\n",
              "       0, 0, 0, 0, 0, 0, 1, 1, 1, 1, 1, 1, 1, 1, 1, 1, 1, 1, 1, 1, 1, 1,\n",
              "       1, 1, 1, 1, 1, 1, 1, 1, 1, 0, 0, 0, 0, 0, 0, 0, 0, 0, 0, 0, 0, 0,\n",
              "       0, 0, 0, 0, 0, 0, 0, 0, 0, 0, 0, 0])"
            ]
          },
          "metadata": {
            "tags": []
          },
          "execution_count": 175
        }
      ]
    },
    {
      "cell_type": "markdown",
      "metadata": {
        "id": "deehub-_lEXh",
        "colab_type": "text"
      },
      "source": [
        "Una vez tenemos las etiquetas , podemos pasar a realizar el grafico de dispersion. para indicarles las etiquetas a la funcion plt.scatter lo hacemos usando el parametro `c` el cual diremos que `c=clf` y la funcion graficara de un color diferente las etiquetas con diferente valor"
      ]
    },
    {
      "cell_type": "code",
      "metadata": {
        "id": "Qbm1blG9W9mb",
        "colab_type": "code",
        "outputId": "ce287eb7-0d0d-46c5-9d22-f3cb88c0383f",
        "colab": {
          "base_uri": "https://localhost:8080/",
          "height": 0
        }
      },
      "source": [
        "#realicemos la grafica del seno usando plt.scatter, ademas usemos el paramtro s para modificar el tamaño delos punots y el parametro alpha para modificar la transparencia\n",
        "plt.scatter(x ,  y , c = clf, s=40,  alpha=0.5)"
      ],
      "execution_count": 176,
      "outputs": [
        {
          "output_type": "execute_result",
          "data": {
            "text/plain": [
              "<matplotlib.collections.PathCollection at 0x7fca2f5baac8>"
            ]
          },
          "metadata": {
            "tags": []
          },
          "execution_count": 176
        },
        {
          "output_type": "display_data",
          "data": {
            "image/png": "[encoded data removed]",
            "text/plain": [
              "<Figure size 432x288 with 1 Axes>"
            ]
          },
          "metadata": {
            "tags": []
          }
        }
      ]
    },
    {
      "cell_type": "markdown",
      "metadata": {
        "id": "A9XVWCgnlrGQ",
        "colab_type": "text"
      },
      "source": [
        "como se puede ver, las etiquetas correspondiente a 1 las grafico de un color diferente a las etiquetas correspondientes al valor 0 "
      ]
    },
    {
      "cell_type": "markdown",
      "metadata": {
        "id": "zew9hyO9YyAA",
        "colab_type": "text"
      },
      "source": [
        "##Ejercicios "
      ]
    },
    {
      "cell_type": "markdown",
      "metadata": {
        "id": "ygxtPF9RmFRO",
        "colab_type": "text"
      },
      "source": [
        "1 )  Considere el sigueinte conjuntos de puntos y el siguiente grafico"
      ]
    },
    {
      "cell_type": "code",
      "metadata": {
        "id": "90znOt_YmEsI",
        "colab_type": "code",
        "outputId": "1af77e47-c15c-46ba-ef74-8dc897150e3a",
        "colab": {
          "base_uri": "https://localhost:8080/",
          "height": 0
        }
      },
      "source": [
        "x = np.linspace(-5,5, 100)\n",
        "y = x**2\n",
        "plt.scatter(x, y)"
      ],
      "execution_count": 177,
      "outputs": [
        {
          "output_type": "execute_result",
          "data": {
            "text/plain": [
              "<matplotlib.collections.PathCollection at 0x7fca2f5a4940>"
            ]
          },
          "metadata": {
            "tags": []
          },
          "execution_count": 177
        },
        {
          "output_type": "display_data",
          "data": {
            "image/png": "[encoded data removed]",
            "text/plain": [
              "<Figure size 432x288 with 1 Axes>"
            ]
          },
          "metadata": {
            "tags": []
          }
        }
      ]
    },
    {
      "cell_type": "markdown",
      "metadata": {
        "id": "Q0j4LBK4oHvf",
        "colab_type": "text"
      },
      "source": [
        "1 ) Considerando los valores de x y y acabados de definir , realice un grafico utilizando la funcion plt.scatter donde los puntos para los cuales y > 10 los muestre de un color, y los puntos para los cuales y <= 10 los pinte de otro color"
      ]
    },
    {
      "cell_type": "code",
      "metadata": {
        "id": "RpOfTjPloN1p",
        "colab_type": "code",
        "colab": {}
      },
      "source": [
        ""
      ],
      "execution_count": 0,
      "outputs": []
    },
    {
      "cell_type": "markdown",
      "metadata": {
        "id": "khvmjUpEZKXm",
        "colab_type": "text"
      },
      "source": [
        "2) usando la funcion plt.scatter graficar 'sepal length' y 'sepal weight' y pinte de un color diferente los puntos que correspondan a flores diferentes"
      ]
    },
    {
      "cell_type": "code",
      "metadata": {
        "id": "0cqO5_UOZHKl",
        "colab_type": "code",
        "colab": {}
      },
      "source": [
        ""
      ],
      "execution_count": 0,
      "outputs": []
    },
    {
      "cell_type": "markdown",
      "metadata": {
        "id": "p5lGRpybZxTF",
        "colab_type": "text"
      },
      "source": [
        "3 ) haga una grafico de la funcion sin(x) en el intervalo [0, 20] y haga que el tamaño de los puntos aumente a medidad que x aumenta"
      ]
    },
    {
      "cell_type": "code",
      "metadata": {
        "id": "QKayGCsVaQkz",
        "colab_type": "code",
        "colab": {}
      },
      "source": [
        ""
      ],
      "execution_count": 0,
      "outputs": []
    },
    {
      "cell_type": "markdown",
      "metadata": {
        "id": "rXx2vElmOpL8",
        "colab_type": "text"
      },
      "source": [
        "# Dataframes y Series de Pandas"
      ]
    },
    {
      "cell_type": "markdown",
      "metadata": {
        "id": "9B8iFEgAaSfL",
        "colab_type": "text"
      },
      "source": [
        "`pandas` es una biblioteca que respresenta una extensión de numpy, para la manipulación y análisis de datos en Python. "
      ]
    },
    {
      "cell_type": "code",
      "metadata": {
        "id": "bOhVDQhpZ6iT",
        "colab_type": "code",
        "colab": {}
      },
      "source": [
        "#importemos la libreria de pandas \n",
        "import pandas as pd"
      ],
      "execution_count": 0,
      "outputs": []
    },
    {
      "cell_type": "markdown",
      "metadata": {
        "id": "bAQVYUKqaljb",
        "colab_type": "text"
      },
      "source": [
        "uno de los bojetos mas importantes del modulo pandas son los dataframes, los cuales son colecciones de datos en forma de tabla. Un data frame puede ser creado de varias formas; usando diccionarios , arreglos de numpy , etc. Veamos un ejemplo"
      ]
    },
    {
      "cell_type": "code",
      "metadata": {
        "id": "QFFbAwzYak1I",
        "colab_type": "code",
        "colab": {}
      },
      "source": [
        "#Definimos los arreglos que seran utilizamos para la creacion del dataframe\n",
        "x = np.arange(0, 10) #Definimos un arrelgos 1D usando la funcion np.arange\n",
        "x1 = np.sin(x) #creamos otro arreglo 1D que sea el resultado de aplicar la funcion np.sin y lo asignamos a la variable x1 "
      ],
      "execution_count": 0,
      "outputs": []
    },
    {
      "cell_type": "code",
      "metadata": {
        "id": "XpMay1uZbGzB",
        "colab_type": "code",
        "outputId": "a410e1af-6293-4875-b755-a552cbf87e18",
        "colab": {
          "base_uri": "https://localhost:8080/",
          "height": 343
        }
      },
      "source": [
        "#Creacion de un dataframe usando el arreglo 1D de numpy. Obeserve que el nombre de las columnas se asigna usando lisas de python\n",
        "pd.DataFrame(x1 , columns=['sin(x)'])"
      ],
      "execution_count": 180,
      "outputs": [
        {
          "output_type": "execute_result",
          "data": {
            "text/html": [
              "<div>\n",
              "<style scoped>\n",
              "    .dataframe tbody tr th:only-of-type {\n",
              "        vertical-align: middle;\n",
              "    }\n",
              "\n",
              "    .dataframe tbody tr th {\n",
              "        vertical-align: top;\n",
              "    }\n",
              "\n",
              "    .dataframe thead th {\n",
              "        text-align: right;\n",
              "    }\n",
              "</style>\n",
              "<table border=\"1\" class=\"dataframe\">\n",
              "  <thead>\n",
              "    <tr style=\"text-align: right;\">\n",
              "      <th></th>\n",
              "      <th>sin(x)</th>\n",
              "    </tr>\n",
              "  </thead>\n",
              "  <tbody>\n",
              "    <tr>\n",
              "      <th>0</th>\n",
              "      <td>0.000000</td>\n",
              "    </tr>\n",
              "    <tr>\n",
              "      <th>1</th>\n",
              "      <td>0.841471</td>\n",
              "    </tr>\n",
              "    <tr>\n",
              "      <th>2</th>\n",
              "      <td>0.909297</td>\n",
              "    </tr>\n",
              "    <tr>\n",
              "      <th>3</th>\n",
              "      <td>0.141120</td>\n",
              "    </tr>\n",
              "    <tr>\n",
              "      <th>4</th>\n",
              "      <td>-0.756802</td>\n",
              "    </tr>\n",
              "    <tr>\n",
              "      <th>5</th>\n",
              "      <td>-0.958924</td>\n",
              "    </tr>\n",
              "    <tr>\n",
              "      <th>6</th>\n",
              "      <td>-0.279415</td>\n",
              "    </tr>\n",
              "    <tr>\n",
              "      <th>7</th>\n",
              "      <td>0.656987</td>\n",
              "    </tr>\n",
              "    <tr>\n",
              "      <th>8</th>\n",
              "      <td>0.989358</td>\n",
              "    </tr>\n",
              "    <tr>\n",
              "      <th>9</th>\n",
              "      <td>0.412118</td>\n",
              "    </tr>\n",
              "  </tbody>\n",
              "</table>\n",
              "</div>"
            ],
            "text/plain": [
              "     sin(x)\n",
              "0  0.000000\n",
              "1  0.841471\n",
              "2  0.909297\n",
              "3  0.141120\n",
              "4 -0.756802\n",
              "5 -0.958924\n",
              "6 -0.279415\n",
              "7  0.656987\n",
              "8  0.989358\n",
              "9  0.412118"
            ]
          },
          "metadata": {
            "tags": []
          },
          "execution_count": 180
        }
      ]
    },
    {
      "cell_type": "markdown",
      "metadata": {
        "id": "foEaCNzfpNoB",
        "colab_type": "text"
      },
      "source": [
        "Como se acaba de ver, es posible crear un dataframe apartir de un arreglo 1D de numpy. La creacion de los dataframes tambien puede realizarse utilizanso arreglos 2D de numpy donde la primera columna correponde a sin(x), y la segunda columna corresponde a cos(x). Existen multiples formas de construir este arreglo 2D mencionado, nosotros lo aremos apartir de definir un arreglo 2D cyas entradas tiene el valor 0 y luego re-asignaremos las columnas "
      ]
    },
    {
      "cell_type": "code",
      "metadata": {
        "id": "f1hwdYySrESy",
        "colab_type": "code",
        "colab": {}
      },
      "source": [
        "np.ones?"
      ],
      "execution_count": 0,
      "outputs": []
    },
    {
      "cell_type": "code",
      "metadata": {
        "id": "2OENVYslquqx",
        "colab_type": "code",
        "outputId": "0b3996f9-242e-48af-ace0-2bffe4eec391",
        "colab": {
          "base_uri": "https://localhost:8080/",
          "height": 185
        }
      },
      "source": [
        "#Miremos la funcion np.ones que nos permite crear lleno de unos\n",
        "np.ones(shape=(10,2), )"
      ],
      "execution_count": 182,
      "outputs": [
        {
          "output_type": "execute_result",
          "data": {
            "text/plain": [
              "array([[1., 1.],\n",
              "       [1., 1.],\n",
              "       [1., 1.],\n",
              "       [1., 1.],\n",
              "       [1., 1.],\n",
              "       [1., 1.],\n",
              "       [1., 1.],\n",
              "       [1., 1.],\n",
              "       [1., 1.],\n",
              "       [1., 1.]])"
            ]
          },
          "metadata": {
            "tags": []
          },
          "execution_count": 182
        }
      ]
    },
    {
      "cell_type": "code",
      "metadata": {
        "id": "q-PzxCBLpZa_",
        "colab_type": "code",
        "colab": {}
      },
      "source": [
        "#Ahora asignemos este arreglo lleno de unos a una variable llamada arreglo\n",
        "arreglo = np.empty(shape=(10,2))"
      ],
      "execution_count": 0,
      "outputs": []
    },
    {
      "cell_type": "code",
      "metadata": {
        "id": "mx0FkbKvrJ82",
        "colab_type": "code",
        "outputId": "e98a77e9-a94c-40aa-c965-45beead216c3",
        "colab": {
          "base_uri": "https://localhost:8080/",
          "height": 185
        }
      },
      "source": [
        "arreglo"
      ],
      "execution_count": 184,
      "outputs": [
        {
          "output_type": "execute_result",
          "data": {
            "text/plain": [
              "array([[1., 1.],\n",
              "       [1., 1.],\n",
              "       [1., 1.],\n",
              "       [1., 1.],\n",
              "       [1., 1.],\n",
              "       [1., 1.],\n",
              "       [1., 1.],\n",
              "       [1., 1.],\n",
              "       [1., 1.],\n",
              "       [1., 1.]])"
            ]
          },
          "metadata": {
            "tags": []
          },
          "execution_count": 184
        }
      ]
    },
    {
      "cell_type": "code",
      "metadata": {
        "id": "MdgFd3gUqA4u",
        "colab_type": "code",
        "colab": {}
      },
      "source": [
        "#Ahora procemos a re-asignar las columnas de nuestro arreglo \n",
        "arreglo[:,0] = np.sin(x) #cambiamos el valor de la columa 0 \n",
        "arreglo[:,1] = np.cos(x) #cambiamos el valor de la columa 1"
      ],
      "execution_count": 0,
      "outputs": []
    },
    {
      "cell_type": "code",
      "metadata": {
        "id": "HFikIKBxqQmI",
        "colab_type": "code",
        "outputId": "a9c3cc8b-7c48-4402-b20f-17e3c136d063",
        "colab": {
          "base_uri": "https://localhost:8080/",
          "height": 185
        }
      },
      "source": [
        "arreglo"
      ],
      "execution_count": 186,
      "outputs": [
        {
          "output_type": "execute_result",
          "data": {
            "text/plain": [
              "array([[ 0.        ,  1.        ],\n",
              "       [ 0.84147098,  0.54030231],\n",
              "       [ 0.90929743, -0.41614684],\n",
              "       [ 0.14112001, -0.9899925 ],\n",
              "       [-0.7568025 , -0.65364362],\n",
              "       [-0.95892427,  0.28366219],\n",
              "       [-0.2794155 ,  0.96017029],\n",
              "       [ 0.6569866 ,  0.75390225],\n",
              "       [ 0.98935825, -0.14550003],\n",
              "       [ 0.41211849, -0.91113026]])"
            ]
          },
          "metadata": {
            "tags": []
          },
          "execution_count": 186
        }
      ]
    },
    {
      "cell_type": "markdown",
      "metadata": {
        "id": "luQxy_54sGsc",
        "colab_type": "text"
      },
      "source": [
        "Ahora que hemos construido nuestro arreglo 2D, podemos pasar a la creacion de nuestro data frame apartir de este arreglo. "
      ]
    },
    {
      "cell_type": "code",
      "metadata": {
        "id": "9FMLwWs4sGE7",
        "colab_type": "code",
        "outputId": "a72c1f6a-c3e1-49a1-8064-5006eee00a6f",
        "colab": {
          "base_uri": "https://localhost:8080/",
          "height": 343
        }
      },
      "source": [
        "#creacion de nuestro dataframe usando un arreglo 2D Obeserve que el nombre de las columnas se asigna usando lisas de python\n",
        "df = pd.DataFrame(arreglo , columns=['sin(x)' , 'cos(x)']) \n",
        "df"
      ],
      "execution_count": 187,
      "outputs": [
        {
          "output_type": "execute_result",
          "data": {
            "text/html": [
              "<div>\n",
              "<style scoped>\n",
              "    .dataframe tbody tr th:only-of-type {\n",
              "        vertical-align: middle;\n",
              "    }\n",
              "\n",
              "    .dataframe tbody tr th {\n",
              "        vertical-align: top;\n",
              "    }\n",
              "\n",
              "    .dataframe thead th {\n",
              "        text-align: right;\n",
              "    }\n",
              "</style>\n",
              "<table border=\"1\" class=\"dataframe\">\n",
              "  <thead>\n",
              "    <tr style=\"text-align: right;\">\n",
              "      <th></th>\n",
              "      <th>sin(x)</th>\n",
              "      <th>cos(x)</th>\n",
              "    </tr>\n",
              "  </thead>\n",
              "  <tbody>\n",
              "    <tr>\n",
              "      <th>0</th>\n",
              "      <td>0.000000</td>\n",
              "      <td>1.000000</td>\n",
              "    </tr>\n",
              "    <tr>\n",
              "      <th>1</th>\n",
              "      <td>0.841471</td>\n",
              "      <td>0.540302</td>\n",
              "    </tr>\n",
              "    <tr>\n",
              "      <th>2</th>\n",
              "      <td>0.909297</td>\n",
              "      <td>-0.416147</td>\n",
              "    </tr>\n",
              "    <tr>\n",
              "      <th>3</th>\n",
              "      <td>0.141120</td>\n",
              "      <td>-0.989992</td>\n",
              "    </tr>\n",
              "    <tr>\n",
              "      <th>4</th>\n",
              "      <td>-0.756802</td>\n",
              "      <td>-0.653644</td>\n",
              "    </tr>\n",
              "    <tr>\n",
              "      <th>5</th>\n",
              "      <td>-0.958924</td>\n",
              "      <td>0.283662</td>\n",
              "    </tr>\n",
              "    <tr>\n",
              "      <th>6</th>\n",
              "      <td>-0.279415</td>\n",
              "      <td>0.960170</td>\n",
              "    </tr>\n",
              "    <tr>\n",
              "      <th>7</th>\n",
              "      <td>0.656987</td>\n",
              "      <td>0.753902</td>\n",
              "    </tr>\n",
              "    <tr>\n",
              "      <th>8</th>\n",
              "      <td>0.989358</td>\n",
              "      <td>-0.145500</td>\n",
              "    </tr>\n",
              "    <tr>\n",
              "      <th>9</th>\n",
              "      <td>0.412118</td>\n",
              "      <td>-0.911130</td>\n",
              "    </tr>\n",
              "  </tbody>\n",
              "</table>\n",
              "</div>"
            ],
            "text/plain": [
              "     sin(x)    cos(x)\n",
              "0  0.000000  1.000000\n",
              "1  0.841471  0.540302\n",
              "2  0.909297 -0.416147\n",
              "3  0.141120 -0.989992\n",
              "4 -0.756802 -0.653644\n",
              "5 -0.958924  0.283662\n",
              "6 -0.279415  0.960170\n",
              "7  0.656987  0.753902\n",
              "8  0.989358 -0.145500\n",
              "9  0.412118 -0.911130"
            ]
          },
          "metadata": {
            "tags": []
          },
          "execution_count": 187
        }
      ]
    },
    {
      "cell_type": "markdown",
      "metadata": {
        "id": "C7WVUvjWr9tm",
        "colab_type": "text"
      },
      "source": [
        "Al igual que los arreglos de numpy, lo dataframes de pandas poseen atributos , veamos algunos de estos "
      ]
    },
    {
      "cell_type": "code",
      "metadata": {
        "id": "Rar2iq3cm_jh",
        "colab_type": "code",
        "outputId": "fc93cf1d-87fa-48f6-9caa-86f765eaa0fc",
        "colab": {
          "base_uri": "https://localhost:8080/",
          "height": 34
        }
      },
      "source": [
        "#Atributo columns\n",
        "df.columns"
      ],
      "execution_count": 188,
      "outputs": [
        {
          "output_type": "execute_result",
          "data": {
            "text/plain": [
              "Index(['sin(x)', 'cos(x)'], dtype='object')"
            ]
          },
          "metadata": {
            "tags": []
          },
          "execution_count": 188
        }
      ]
    },
    {
      "cell_type": "code",
      "metadata": {
        "id": "dK3oFpwpm_fb",
        "colab_type": "code",
        "outputId": "f12cd604-3c3a-4e0d-c8c6-0c36b8059256",
        "colab": {
          "base_uri": "https://localhost:8080/",
          "height": 34
        }
      },
      "source": [
        "#Atributo index\n",
        "df.index"
      ],
      "execution_count": 189,
      "outputs": [
        {
          "output_type": "execute_result",
          "data": {
            "text/plain": [
              "RangeIndex(start=0, stop=10, step=1)"
            ]
          },
          "metadata": {
            "tags": []
          },
          "execution_count": 189
        }
      ]
    },
    {
      "cell_type": "markdown",
      "metadata": {
        "id": "056h6zT6yGl7",
        "colab_type": "text"
      },
      "source": [
        "Al igual que las columnas , los indices pueden ser nombrados (recuerde que los indices corresponden al nombre de las filas). Creemos entonces un datarame usando el arreglo 2D anteriormente definido , y ademas asignemos el nombre de las filas y el nombre de las columnas"
      ]
    },
    {
      "cell_type": "code",
      "metadata": {
        "id": "SxZCgry9xfMw",
        "colab_type": "code",
        "outputId": "b904b916-e907-4597-bbe8-599012b114b3",
        "colab": {
          "base_uri": "https://localhost:8080/",
          "height": 343
        }
      },
      "source": [
        "#creacion del dataframe dandole el nombre a las columnas y a los indicies \n",
        "df = pd.DataFrame(arreglo , columns=['sin(x)' , 'cos(x)'], index=['x=0','x=1','x=2', 'x=3', 'x=4', 'x=5', 'x=6', 'x=7','x=8', 'x=9']) \n",
        "df"
      ],
      "execution_count": 190,
      "outputs": [
        {
          "output_type": "execute_result",
          "data": {
            "text/html": [
              "<div>\n",
              "<style scoped>\n",
              "    .dataframe tbody tr th:only-of-type {\n",
              "        vertical-align: middle;\n",
              "    }\n",
              "\n",
              "    .dataframe tbody tr th {\n",
              "        vertical-align: top;\n",
              "    }\n",
              "\n",
              "    .dataframe thead th {\n",
              "        text-align: right;\n",
              "    }\n",
              "</style>\n",
              "<table border=\"1\" class=\"dataframe\">\n",
              "  <thead>\n",
              "    <tr style=\"text-align: right;\">\n",
              "      <th></th>\n",
              "      <th>sin(x)</th>\n",
              "      <th>cos(x)</th>\n",
              "    </tr>\n",
              "  </thead>\n",
              "  <tbody>\n",
              "    <tr>\n",
              "      <th>x=0</th>\n",
              "      <td>0.000000</td>\n",
              "      <td>1.000000</td>\n",
              "    </tr>\n",
              "    <tr>\n",
              "      <th>x=1</th>\n",
              "      <td>0.841471</td>\n",
              "      <td>0.540302</td>\n",
              "    </tr>\n",
              "    <tr>\n",
              "      <th>x=2</th>\n",
              "      <td>0.909297</td>\n",
              "      <td>-0.416147</td>\n",
              "    </tr>\n",
              "    <tr>\n",
              "      <th>x=3</th>\n",
              "      <td>0.141120</td>\n",
              "      <td>-0.989992</td>\n",
              "    </tr>\n",
              "    <tr>\n",
              "      <th>x=4</th>\n",
              "      <td>-0.756802</td>\n",
              "      <td>-0.653644</td>\n",
              "    </tr>\n",
              "    <tr>\n",
              "      <th>x=5</th>\n",
              "      <td>-0.958924</td>\n",
              "      <td>0.283662</td>\n",
              "    </tr>\n",
              "    <tr>\n",
              "      <th>x=6</th>\n",
              "      <td>-0.279415</td>\n",
              "      <td>0.960170</td>\n",
              "    </tr>\n",
              "    <tr>\n",
              "      <th>x=7</th>\n",
              "      <td>0.656987</td>\n",
              "      <td>0.753902</td>\n",
              "    </tr>\n",
              "    <tr>\n",
              "      <th>x=8</th>\n",
              "      <td>0.989358</td>\n",
              "      <td>-0.145500</td>\n",
              "    </tr>\n",
              "    <tr>\n",
              "      <th>x=9</th>\n",
              "      <td>0.412118</td>\n",
              "      <td>-0.911130</td>\n",
              "    </tr>\n",
              "  </tbody>\n",
              "</table>\n",
              "</div>"
            ],
            "text/plain": [
              "       sin(x)    cos(x)\n",
              "x=0  0.000000  1.000000\n",
              "x=1  0.841471  0.540302\n",
              "x=2  0.909297 -0.416147\n",
              "x=3  0.141120 -0.989992\n",
              "x=4 -0.756802 -0.653644\n",
              "x=5 -0.958924  0.283662\n",
              "x=6 -0.279415  0.960170\n",
              "x=7  0.656987  0.753902\n",
              "x=8  0.989358 -0.145500\n",
              "x=9  0.412118 -0.911130"
            ]
          },
          "metadata": {
            "tags": []
          },
          "execution_count": 190
        }
      ]
    },
    {
      "cell_type": "code",
      "metadata": {
        "id": "UDPy4PgDiaaJ",
        "colab_type": "code",
        "outputId": "5e1fd91d-d633-430d-bf32-18bf9cd47a06",
        "colab": {
          "base_uri": "https://localhost:8080/",
          "height": 34
        }
      },
      "source": [
        "#Algunos atributos de los objetos dataframes (shape, size)\n",
        "df.shape , df.size"
      ],
      "execution_count": 191,
      "outputs": [
        {
          "output_type": "execute_result",
          "data": {
            "text/plain": [
              "((10, 2), 20)"
            ]
          },
          "metadata": {
            "tags": []
          },
          "execution_count": 191
        }
      ]
    },
    {
      "cell_type": "code",
      "metadata": {
        "id": "V5IMHPOfm9vq",
        "colab_type": "code",
        "outputId": "d5df9960-5691-482e-bbfd-1a2eaf2b82ce",
        "colab": {
          "base_uri": "https://localhost:8080/",
          "height": 67
        }
      },
      "source": [
        "#Algunos atributos de los objetos dataframes (dtype)\n",
        "df.dtypes"
      ],
      "execution_count": 192,
      "outputs": [
        {
          "output_type": "execute_result",
          "data": {
            "text/plain": [
              "sin(x)    float64\n",
              "cos(x)    float64\n",
              "dtype: object"
            ]
          },
          "metadata": {
            "tags": []
          },
          "execution_count": 192
        }
      ]
    },
    {
      "cell_type": "markdown",
      "metadata": {
        "id": "PY2FpWd11xMG",
        "colab_type": "text"
      },
      "source": [
        "Los dataframes tambien pueden ser creados usando diccionarios de python"
      ]
    },
    {
      "cell_type": "code",
      "metadata": {
        "id": "ZZEchg6sdy59",
        "colab_type": "code",
        "outputId": "b2fb195a-bbd6-41c9-abdc-e58f18b19abc",
        "colab": {
          "base_uri": "https://localhost:8080/",
          "height": 343
        }
      },
      "source": [
        "#Creacion de un dataframe usando diccionarios\n",
        "dic = {'sin(x)':np.sin(x) , 'cos(x)':np.cos(x)}\n",
        "df = pd.DataFrame(dic, index=['x=0','x=1','x=2', 'x=3', 'x=4', 'x=5', 'x=6', 'x=7','x=8', 'x=9'])\n",
        "df"
      ],
      "execution_count": 193,
      "outputs": [
        {
          "output_type": "execute_result",
          "data": {
            "text/html": [
              "<div>\n",
              "<style scoped>\n",
              "    .dataframe tbody tr th:only-of-type {\n",
              "        vertical-align: middle;\n",
              "    }\n",
              "\n",
              "    .dataframe tbody tr th {\n",
              "        vertical-align: top;\n",
              "    }\n",
              "\n",
              "    .dataframe thead th {\n",
              "        text-align: right;\n",
              "    }\n",
              "</style>\n",
              "<table border=\"1\" class=\"dataframe\">\n",
              "  <thead>\n",
              "    <tr style=\"text-align: right;\">\n",
              "      <th></th>\n",
              "      <th>sin(x)</th>\n",
              "      <th>cos(x)</th>\n",
              "    </tr>\n",
              "  </thead>\n",
              "  <tbody>\n",
              "    <tr>\n",
              "      <th>x=0</th>\n",
              "      <td>0.000000</td>\n",
              "      <td>1.000000</td>\n",
              "    </tr>\n",
              "    <tr>\n",
              "      <th>x=1</th>\n",
              "      <td>0.841471</td>\n",
              "      <td>0.540302</td>\n",
              "    </tr>\n",
              "    <tr>\n",
              "      <th>x=2</th>\n",
              "      <td>0.909297</td>\n",
              "      <td>-0.416147</td>\n",
              "    </tr>\n",
              "    <tr>\n",
              "      <th>x=3</th>\n",
              "      <td>0.141120</td>\n",
              "      <td>-0.989992</td>\n",
              "    </tr>\n",
              "    <tr>\n",
              "      <th>x=4</th>\n",
              "      <td>-0.756802</td>\n",
              "      <td>-0.653644</td>\n",
              "    </tr>\n",
              "    <tr>\n",
              "      <th>x=5</th>\n",
              "      <td>-0.958924</td>\n",
              "      <td>0.283662</td>\n",
              "    </tr>\n",
              "    <tr>\n",
              "      <th>x=6</th>\n",
              "      <td>-0.279415</td>\n",
              "      <td>0.960170</td>\n",
              "    </tr>\n",
              "    <tr>\n",
              "      <th>x=7</th>\n",
              "      <td>0.656987</td>\n",
              "      <td>0.753902</td>\n",
              "    </tr>\n",
              "    <tr>\n",
              "      <th>x=8</th>\n",
              "      <td>0.989358</td>\n",
              "      <td>-0.145500</td>\n",
              "    </tr>\n",
              "    <tr>\n",
              "      <th>x=9</th>\n",
              "      <td>0.412118</td>\n",
              "      <td>-0.911130</td>\n",
              "    </tr>\n",
              "  </tbody>\n",
              "</table>\n",
              "</div>"
            ],
            "text/plain": [
              "       sin(x)    cos(x)\n",
              "x=0  0.000000  1.000000\n",
              "x=1  0.841471  0.540302\n",
              "x=2  0.909297 -0.416147\n",
              "x=3  0.141120 -0.989992\n",
              "x=4 -0.756802 -0.653644\n",
              "x=5 -0.958924  0.283662\n",
              "x=6 -0.279415  0.960170\n",
              "x=7  0.656987  0.753902\n",
              "x=8  0.989358 -0.145500\n",
              "x=9  0.412118 -0.911130"
            ]
          },
          "metadata": {
            "tags": []
          },
          "execution_count": 193
        }
      ]
    },
    {
      "cell_type": "code",
      "metadata": {
        "id": "2f5NPqjviJPT",
        "colab_type": "code",
        "outputId": "99d33070-1617-43d6-9ce4-6b4517c4bf87",
        "colab": {
          "base_uri": "https://localhost:8080/",
          "height": 195
        }
      },
      "source": [
        "#Metodo head de los dataframes\n",
        "df.head()"
      ],
      "execution_count": 194,
      "outputs": [
        {
          "output_type": "execute_result",
          "data": {
            "text/html": [
              "<div>\n",
              "<style scoped>\n",
              "    .dataframe tbody tr th:only-of-type {\n",
              "        vertical-align: middle;\n",
              "    }\n",
              "\n",
              "    .dataframe tbody tr th {\n",
              "        vertical-align: top;\n",
              "    }\n",
              "\n",
              "    .dataframe thead th {\n",
              "        text-align: right;\n",
              "    }\n",
              "</style>\n",
              "<table border=\"1\" class=\"dataframe\">\n",
              "  <thead>\n",
              "    <tr style=\"text-align: right;\">\n",
              "      <th></th>\n",
              "      <th>sin(x)</th>\n",
              "      <th>cos(x)</th>\n",
              "    </tr>\n",
              "  </thead>\n",
              "  <tbody>\n",
              "    <tr>\n",
              "      <th>x=0</th>\n",
              "      <td>0.000000</td>\n",
              "      <td>1.000000</td>\n",
              "    </tr>\n",
              "    <tr>\n",
              "      <th>x=1</th>\n",
              "      <td>0.841471</td>\n",
              "      <td>0.540302</td>\n",
              "    </tr>\n",
              "    <tr>\n",
              "      <th>x=2</th>\n",
              "      <td>0.909297</td>\n",
              "      <td>-0.416147</td>\n",
              "    </tr>\n",
              "    <tr>\n",
              "      <th>x=3</th>\n",
              "      <td>0.141120</td>\n",
              "      <td>-0.989992</td>\n",
              "    </tr>\n",
              "    <tr>\n",
              "      <th>x=4</th>\n",
              "      <td>-0.756802</td>\n",
              "      <td>-0.653644</td>\n",
              "    </tr>\n",
              "  </tbody>\n",
              "</table>\n",
              "</div>"
            ],
            "text/plain": [
              "       sin(x)    cos(x)\n",
              "x=0  0.000000  1.000000\n",
              "x=1  0.841471  0.540302\n",
              "x=2  0.909297 -0.416147\n",
              "x=3  0.141120 -0.989992\n",
              "x=4 -0.756802 -0.653644"
            ]
          },
          "metadata": {
            "tags": []
          },
          "execution_count": 194
        }
      ]
    },
    {
      "cell_type": "code",
      "metadata": {
        "id": "rvXJFLz9iePn",
        "colab_type": "code",
        "outputId": "d17016f9-91a7-4dc6-e5a4-0c86c3387d4a",
        "colab": {
          "base_uri": "https://localhost:8080/",
          "height": 195
        }
      },
      "source": [
        "#Metodo tail de los dataframes\n",
        "df.tail()"
      ],
      "execution_count": 195,
      "outputs": [
        {
          "output_type": "execute_result",
          "data": {
            "text/html": [
              "<div>\n",
              "<style scoped>\n",
              "    .dataframe tbody tr th:only-of-type {\n",
              "        vertical-align: middle;\n",
              "    }\n",
              "\n",
              "    .dataframe tbody tr th {\n",
              "        vertical-align: top;\n",
              "    }\n",
              "\n",
              "    .dataframe thead th {\n",
              "        text-align: right;\n",
              "    }\n",
              "</style>\n",
              "<table border=\"1\" class=\"dataframe\">\n",
              "  <thead>\n",
              "    <tr style=\"text-align: right;\">\n",
              "      <th></th>\n",
              "      <th>sin(x)</th>\n",
              "      <th>cos(x)</th>\n",
              "    </tr>\n",
              "  </thead>\n",
              "  <tbody>\n",
              "    <tr>\n",
              "      <th>x=5</th>\n",
              "      <td>-0.958924</td>\n",
              "      <td>0.283662</td>\n",
              "    </tr>\n",
              "    <tr>\n",
              "      <th>x=6</th>\n",
              "      <td>-0.279415</td>\n",
              "      <td>0.960170</td>\n",
              "    </tr>\n",
              "    <tr>\n",
              "      <th>x=7</th>\n",
              "      <td>0.656987</td>\n",
              "      <td>0.753902</td>\n",
              "    </tr>\n",
              "    <tr>\n",
              "      <th>x=8</th>\n",
              "      <td>0.989358</td>\n",
              "      <td>-0.145500</td>\n",
              "    </tr>\n",
              "    <tr>\n",
              "      <th>x=9</th>\n",
              "      <td>0.412118</td>\n",
              "      <td>-0.911130</td>\n",
              "    </tr>\n",
              "  </tbody>\n",
              "</table>\n",
              "</div>"
            ],
            "text/plain": [
              "       sin(x)    cos(x)\n",
              "x=5 -0.958924  0.283662\n",
              "x=6 -0.279415  0.960170\n",
              "x=7  0.656987  0.753902\n",
              "x=8  0.989358 -0.145500\n",
              "x=9  0.412118 -0.911130"
            ]
          },
          "metadata": {
            "tags": []
          },
          "execution_count": 195
        }
      ]
    },
    {
      "cell_type": "markdown",
      "metadata": {
        "id": "jwTLqJrYCTtD",
        "colab_type": "text"
      },
      "source": [
        "Los dataframes pueden soportar diferentes tipos de datos, en diferentes columnas , sin embargo cada coluna solo puede contener un tipo de dato fundamental."
      ]
    },
    {
      "cell_type": "markdown",
      "metadata": {
        "id": "Vuv14p5Y5keV",
        "colab_type": "text"
      },
      "source": [
        "## Ejercicios"
      ]
    },
    {
      "cell_type": "markdown",
      "metadata": {
        "colab_type": "text",
        "id": "2r7dyORf3stc"
      },
      "source": [
        "1) usando los datos de iris_dataset (esto es, los datos explicados anterior mente sobre las flores), cree un datafram que contenga las cuatro caracteristicas (es decir 'sepal length', 'sepal width', 'petal length ', 'petal width) puede cambiarle el nombre de las caracteristicas su comodidad. Recuerde que la matriz que contiene las caracteristicas se encuntra en `data['data']`"
      ]
    },
    {
      "cell_type": "code",
      "metadata": {
        "colab_type": "code",
        "id": "bAjh8Vka3sth",
        "colab": {}
      },
      "source": [
        ""
      ],
      "execution_count": 0,
      "outputs": []
    },
    {
      "cell_type": "markdown",
      "metadata": {
        "colab_type": "text",
        "id": "C7yM4S4y3stk"
      },
      "source": [
        "2) verificar algunos de los atributos del dataset , tales como shape, size, dtype, etc"
      ]
    },
    {
      "cell_type": "code",
      "metadata": {
        "id": "QEYMa9mA5YPP",
        "colab_type": "code",
        "colab": {}
      },
      "source": [
        ""
      ],
      "execution_count": 0,
      "outputs": []
    },
    {
      "cell_type": "markdown",
      "metadata": {
        "id": "rn3Zq6BB5n5V",
        "colab_type": "text"
      },
      "source": [
        "## seleccion  y modificacion de columnas en los dataframes"
      ]
    },
    {
      "cell_type": "code",
      "metadata": {
        "id": "3c_n8Fdlsocs",
        "colab_type": "code",
        "outputId": "62f9d3c2-6f90-41c6-d66d-f791a7d7bd83",
        "colab": {
          "base_uri": "https://localhost:8080/",
          "height": 0
        }
      },
      "source": [
        "#seleccion de columnas de los dataframes\n",
        "df[['sin(x)']]"
      ],
      "execution_count": 196,
      "outputs": [
        {
          "output_type": "execute_result",
          "data": {
            "text/html": [
              "<div>\n",
              "<style scoped>\n",
              "    .dataframe tbody tr th:only-of-type {\n",
              "        vertical-align: middle;\n",
              "    }\n",
              "\n",
              "    .dataframe tbody tr th {\n",
              "        vertical-align: top;\n",
              "    }\n",
              "\n",
              "    .dataframe thead th {\n",
              "        text-align: right;\n",
              "    }\n",
              "</style>\n",
              "<table border=\"1\" class=\"dataframe\">\n",
              "  <thead>\n",
              "    <tr style=\"text-align: right;\">\n",
              "      <th></th>\n",
              "      <th>sin(x)</th>\n",
              "    </tr>\n",
              "  </thead>\n",
              "  <tbody>\n",
              "    <tr>\n",
              "      <th>x=0</th>\n",
              "      <td>0.000000</td>\n",
              "    </tr>\n",
              "    <tr>\n",
              "      <th>x=1</th>\n",
              "      <td>0.841471</td>\n",
              "    </tr>\n",
              "    <tr>\n",
              "      <th>x=2</th>\n",
              "      <td>0.909297</td>\n",
              "    </tr>\n",
              "    <tr>\n",
              "      <th>x=3</th>\n",
              "      <td>0.141120</td>\n",
              "    </tr>\n",
              "    <tr>\n",
              "      <th>x=4</th>\n",
              "      <td>-0.756802</td>\n",
              "    </tr>\n",
              "    <tr>\n",
              "      <th>x=5</th>\n",
              "      <td>-0.958924</td>\n",
              "    </tr>\n",
              "    <tr>\n",
              "      <th>x=6</th>\n",
              "      <td>-0.279415</td>\n",
              "    </tr>\n",
              "    <tr>\n",
              "      <th>x=7</th>\n",
              "      <td>0.656987</td>\n",
              "    </tr>\n",
              "    <tr>\n",
              "      <th>x=8</th>\n",
              "      <td>0.989358</td>\n",
              "    </tr>\n",
              "    <tr>\n",
              "      <th>x=9</th>\n",
              "      <td>0.412118</td>\n",
              "    </tr>\n",
              "  </tbody>\n",
              "</table>\n",
              "</div>"
            ],
            "text/plain": [
              "       sin(x)\n",
              "x=0  0.000000\n",
              "x=1  0.841471\n",
              "x=2  0.909297\n",
              "x=3  0.141120\n",
              "x=4 -0.756802\n",
              "x=5 -0.958924\n",
              "x=6 -0.279415\n",
              "x=7  0.656987\n",
              "x=8  0.989358\n",
              "x=9  0.412118"
            ]
          },
          "metadata": {
            "tags": []
          },
          "execution_count": 196
        }
      ]
    },
    {
      "cell_type": "code",
      "metadata": {
        "id": "k4d1jmwI2NWT",
        "colab_type": "code",
        "outputId": "c47da551-9d3b-4c4b-a560-c944e25eda09",
        "colab": {
          "base_uri": "https://localhost:8080/",
          "height": 0
        }
      },
      "source": [
        "#seleccion de columnas de los dataframes\n",
        "df[['cos(x)']]"
      ],
      "execution_count": 197,
      "outputs": [
        {
          "output_type": "execute_result",
          "data": {
            "text/html": [
              "<div>\n",
              "<style scoped>\n",
              "    .dataframe tbody tr th:only-of-type {\n",
              "        vertical-align: middle;\n",
              "    }\n",
              "\n",
              "    .dataframe tbody tr th {\n",
              "        vertical-align: top;\n",
              "    }\n",
              "\n",
              "    .dataframe thead th {\n",
              "        text-align: right;\n",
              "    }\n",
              "</style>\n",
              "<table border=\"1\" class=\"dataframe\">\n",
              "  <thead>\n",
              "    <tr style=\"text-align: right;\">\n",
              "      <th></th>\n",
              "      <th>cos(x)</th>\n",
              "    </tr>\n",
              "  </thead>\n",
              "  <tbody>\n",
              "    <tr>\n",
              "      <th>x=0</th>\n",
              "      <td>1.000000</td>\n",
              "    </tr>\n",
              "    <tr>\n",
              "      <th>x=1</th>\n",
              "      <td>0.540302</td>\n",
              "    </tr>\n",
              "    <tr>\n",
              "      <th>x=2</th>\n",
              "      <td>-0.416147</td>\n",
              "    </tr>\n",
              "    <tr>\n",
              "      <th>x=3</th>\n",
              "      <td>-0.989992</td>\n",
              "    </tr>\n",
              "    <tr>\n",
              "      <th>x=4</th>\n",
              "      <td>-0.653644</td>\n",
              "    </tr>\n",
              "    <tr>\n",
              "      <th>x=5</th>\n",
              "      <td>0.283662</td>\n",
              "    </tr>\n",
              "    <tr>\n",
              "      <th>x=6</th>\n",
              "      <td>0.960170</td>\n",
              "    </tr>\n",
              "    <tr>\n",
              "      <th>x=7</th>\n",
              "      <td>0.753902</td>\n",
              "    </tr>\n",
              "    <tr>\n",
              "      <th>x=8</th>\n",
              "      <td>-0.145500</td>\n",
              "    </tr>\n",
              "    <tr>\n",
              "      <th>x=9</th>\n",
              "      <td>-0.911130</td>\n",
              "    </tr>\n",
              "  </tbody>\n",
              "</table>\n",
              "</div>"
            ],
            "text/plain": [
              "       cos(x)\n",
              "x=0  1.000000\n",
              "x=1  0.540302\n",
              "x=2 -0.416147\n",
              "x=3 -0.989992\n",
              "x=4 -0.653644\n",
              "x=5  0.283662\n",
              "x=6  0.960170\n",
              "x=7  0.753902\n",
              "x=8 -0.145500\n",
              "x=9 -0.911130"
            ]
          },
          "metadata": {
            "tags": []
          },
          "execution_count": 197
        }
      ]
    },
    {
      "cell_type": "code",
      "metadata": {
        "id": "CHoFw8ni2R-J",
        "colab_type": "code",
        "outputId": "92657d25-5f4d-410e-e8e8-d0e331f5860c",
        "colab": {
          "base_uri": "https://localhost:8080/",
          "height": 0
        }
      },
      "source": [
        "#si no utilizamos dogles [[]] obtendremos otro objeto de pandas llamado 'Series'\n",
        "type(df['sin(x)'])"
      ],
      "execution_count": 198,
      "outputs": [
        {
          "output_type": "execute_result",
          "data": {
            "text/plain": [
              "pandas.core.series.Series"
            ]
          },
          "metadata": {
            "tags": []
          },
          "execution_count": 198
        }
      ]
    },
    {
      "cell_type": "code",
      "metadata": {
        "id": "F0KScbFziQz6",
        "colab_type": "code",
        "outputId": "88973413-f187-4b9a-a7c6-65b294b3e4f7",
        "colab": {
          "base_uri": "https://localhost:8080/",
          "height": 0
        }
      },
      "source": [
        "#si no utilizamos dobles [[]] obtendremos otro objeto de pandas llamado 'Series'\n",
        "df['sin(x)']"
      ],
      "execution_count": 199,
      "outputs": [
        {
          "output_type": "execute_result",
          "data": {
            "text/plain": [
              "x=0    0.000000\n",
              "x=1    0.841471\n",
              "x=2    0.909297\n",
              "x=3    0.141120\n",
              "x=4   -0.756802\n",
              "x=5   -0.958924\n",
              "x=6   -0.279415\n",
              "x=7    0.656987\n",
              "x=8    0.989358\n",
              "x=9    0.412118\n",
              "Name: sin(x), dtype: float64"
            ]
          },
          "metadata": {
            "tags": []
          },
          "execution_count": 199
        }
      ]
    },
    {
      "cell_type": "markdown",
      "metadata": {
        "id": "VuYMzLAv2Yrl",
        "colab_type": "text"
      },
      "source": [
        "Las Series de Pandas son basicamente arreglos 1D de numpy cuyos indices pueden ser nombrados tal y como vemos en el ejemplo anterios "
      ]
    },
    {
      "cell_type": "code",
      "metadata": {
        "id": "61gqcaw1iLnJ",
        "colab_type": "code",
        "outputId": "af19e229-80ed-4c47-c52a-e623432245db",
        "colab": {
          "base_uri": "https://localhost:8080/",
          "height": 0
        }
      },
      "source": [
        "#Asignemos la anterior Serie de pandas a la variable serie\n",
        "serie = df['sin(x)']\n",
        "serie"
      ],
      "execution_count": 200,
      "outputs": [
        {
          "output_type": "execute_result",
          "data": {
            "text/plain": [
              "x=0    0.000000\n",
              "x=1    0.841471\n",
              "x=2    0.909297\n",
              "x=3    0.141120\n",
              "x=4   -0.756802\n",
              "x=5   -0.958924\n",
              "x=6   -0.279415\n",
              "x=7    0.656987\n",
              "x=8    0.989358\n",
              "x=9    0.412118\n",
              "Name: sin(x), dtype: float64"
            ]
          },
          "metadata": {
            "tags": []
          },
          "execution_count": 200
        }
      ]
    },
    {
      "cell_type": "markdown",
      "metadata": {
        "id": "op0c_2HR2t8a",
        "colab_type": "text"
      },
      "source": [
        "Las series de pandas cuentan con el atributo index y con el atributo name\n"
      ]
    },
    {
      "cell_type": "code",
      "metadata": {
        "id": "eQOOG-ekjPwf",
        "colab_type": "code",
        "outputId": "9019f0de-39e6-4714-e64a-4da0f2082e27",
        "colab": {
          "base_uri": "https://localhost:8080/",
          "height": 0
        }
      },
      "source": [
        "#Atributo index de las series \n",
        "serie.index"
      ],
      "execution_count": 201,
      "outputs": [
        {
          "output_type": "execute_result",
          "data": {
            "text/plain": [
              "Index(['x=0', 'x=1', 'x=2', 'x=3', 'x=4', 'x=5', 'x=6', 'x=7', 'x=8', 'x=9'], dtype='object')"
            ]
          },
          "metadata": {
            "tags": []
          },
          "execution_count": 201
        }
      ]
    },
    {
      "cell_type": "code",
      "metadata": {
        "id": "Ait0Uk7Ylm5v",
        "colab_type": "code",
        "outputId": "85aaa55d-8653-44af-f0c0-8403a0bf3ad6",
        "colab": {
          "base_uri": "https://localhost:8080/",
          "height": 0
        }
      },
      "source": [
        "#Atributo name de las series \n",
        "serie.name"
      ],
      "execution_count": 202,
      "outputs": [
        {
          "output_type": "execute_result",
          "data": {
            "text/plain": [
              "'sin(x)'"
            ]
          },
          "metadata": {
            "tags": []
          },
          "execution_count": 202
        }
      ]
    },
    {
      "cell_type": "markdown",
      "metadata": {
        "id": "BUreWSTt90bL",
        "colab_type": "text"
      },
      "source": [
        "Es posible usar el nombre de los indices en las series de pandas para seleccinar los valores de la serie, veamos un ejemplo de esto"
      ]
    },
    {
      "cell_type": "code",
      "metadata": {
        "id": "gvf-_WkJsc0N",
        "colab_type": "code",
        "outputId": "e73446b9-f75e-4978-9d17-fe0b01403541",
        "colab": {
          "base_uri": "https://localhost:8080/",
          "height": 0
        }
      },
      "source": [
        "#Indexacion de las series usando los indices\n",
        "serie['x=1']"
      ],
      "execution_count": 203,
      "outputs": [
        {
          "output_type": "execute_result",
          "data": {
            "text/plain": [
              "0.8414709848078965"
            ]
          },
          "metadata": {
            "tags": []
          },
          "execution_count": 203
        }
      ]
    },
    {
      "cell_type": "code",
      "metadata": {
        "id": "74Ac2ngF-ZQ7",
        "colab_type": "code",
        "colab": {
          "base_uri": "https://localhost:8080/",
          "height": 0
        },
        "outputId": "1c160a7b-d7a8-4997-fa2b-7dcecde44c2c"
      },
      "source": [
        "#Slicing de la serie usando los indicies \n",
        "serie['x=2':'x=6']"
      ],
      "execution_count": 204,
      "outputs": [
        {
          "output_type": "execute_result",
          "data": {
            "text/plain": [
              "x=2    0.909297\n",
              "x=3    0.141120\n",
              "x=4   -0.756802\n",
              "x=5   -0.958924\n",
              "x=6   -0.279415\n",
              "Name: sin(x), dtype: float64"
            ]
          },
          "metadata": {
            "tags": []
          },
          "execution_count": 204
        }
      ]
    },
    {
      "cell_type": "markdown",
      "metadata": {
        "id": "IBrNsLan9Voz",
        "colab_type": "text"
      },
      "source": [
        "Los indicies en las series de pandans y los dataframes de python puede ser renombrados, para esto se debe usar una lista de python o un arreglo de numpy 1D cuya longitud sea igual al numero de indices de la serie o del dataframe. Veamos un ejemplo de esto "
      ]
    },
    {
      "cell_type": "code",
      "metadata": {
        "id": "8bngZbRp-41b",
        "colab_type": "code",
        "colab": {}
      },
      "source": [
        "#reasignacion de los indices en una serie de pandas\n",
        "serie.index = np.array(['sin(0)','sin(1)', 'sin(2)', 'sin(3)', 'sin(4)', 'sin(5)', 'sin(6)', 'sin(7)', 'sin(8)','sin(9)']) "
      ],
      "execution_count": 0,
      "outputs": []
    },
    {
      "cell_type": "code",
      "metadata": {
        "id": "MhgcIFaS-4xs",
        "colab_type": "code",
        "colab": {}
      },
      "source": [
        ""
      ],
      "execution_count": 0,
      "outputs": []
    },
    {
      "cell_type": "code",
      "metadata": {
        "id": "ig3fm8jb-4vb",
        "colab_type": "code",
        "colab": {
          "base_uri": "https://localhost:8080/",
          "height": 0
        },
        "outputId": "8dedf97e-2f30-4d2a-a3c8-c5166de68395"
      },
      "source": [
        "serie.index"
      ],
      "execution_count": 206,
      "outputs": [
        {
          "output_type": "execute_result",
          "data": {
            "text/plain": [
              "Index(['sin(0)', 'sin(1)', 'sin(2)', 'sin(3)', 'sin(4)', 'sin(5)', 'sin(6)',\n",
              "       'sin(7)', 'sin(8)', 'sin(9)'],\n",
              "      dtype='object')"
            ]
          },
          "metadata": {
            "tags": []
          },
          "execution_count": 206
        }
      ]
    },
    {
      "cell_type": "markdown",
      "metadata": {
        "id": "dmPqNyihAdCx",
        "colab_type": "text"
      },
      "source": [
        "De manera analoga se pueden modificar los indices de un dataframe, veamos un ejemplo"
      ]
    },
    {
      "cell_type": "code",
      "metadata": {
        "id": "eohXXIGb-4sP",
        "colab_type": "code",
        "colab": {
          "base_uri": "https://localhost:8080/",
          "height": 0
        },
        "outputId": "d7558ce4-5de0-45b0-95c8-86a2b8f3c979"
      },
      "source": [
        "df.index"
      ],
      "execution_count": 207,
      "outputs": [
        {
          "output_type": "execute_result",
          "data": {
            "text/plain": [
              "Index(['x=0', 'x=1', 'x=2', 'x=3', 'x=4', 'x=5', 'x=6', 'x=7', 'x=8', 'x=9'], dtype='object')"
            ]
          },
          "metadata": {
            "tags": []
          },
          "execution_count": 207
        }
      ]
    },
    {
      "cell_type": "code",
      "metadata": {
        "id": "inpgqT59-4pk",
        "colab_type": "code",
        "colab": {}
      },
      "source": [
        "df.index = np.arange(0,10)"
      ],
      "execution_count": 0,
      "outputs": []
    },
    {
      "cell_type": "code",
      "metadata": {
        "id": "somXEbBk-4lg",
        "colab_type": "code",
        "colab": {
          "base_uri": "https://localhost:8080/",
          "height": 0
        },
        "outputId": "88ce9fd2-593f-41e4-8899-cb6728d0e5b6"
      },
      "source": [
        "df"
      ],
      "execution_count": 209,
      "outputs": [
        {
          "output_type": "execute_result",
          "data": {
            "text/html": [
              "<div>\n",
              "<style scoped>\n",
              "    .dataframe tbody tr th:only-of-type {\n",
              "        vertical-align: middle;\n",
              "    }\n",
              "\n",
              "    .dataframe tbody tr th {\n",
              "        vertical-align: top;\n",
              "    }\n",
              "\n",
              "    .dataframe thead th {\n",
              "        text-align: right;\n",
              "    }\n",
              "</style>\n",
              "<table border=\"1\" class=\"dataframe\">\n",
              "  <thead>\n",
              "    <tr style=\"text-align: right;\">\n",
              "      <th></th>\n",
              "      <th>sin(x)</th>\n",
              "      <th>cos(x)</th>\n",
              "    </tr>\n",
              "  </thead>\n",
              "  <tbody>\n",
              "    <tr>\n",
              "      <th>0</th>\n",
              "      <td>0.000000</td>\n",
              "      <td>1.000000</td>\n",
              "    </tr>\n",
              "    <tr>\n",
              "      <th>1</th>\n",
              "      <td>0.841471</td>\n",
              "      <td>0.540302</td>\n",
              "    </tr>\n",
              "    <tr>\n",
              "      <th>2</th>\n",
              "      <td>0.909297</td>\n",
              "      <td>-0.416147</td>\n",
              "    </tr>\n",
              "    <tr>\n",
              "      <th>3</th>\n",
              "      <td>0.141120</td>\n",
              "      <td>-0.989992</td>\n",
              "    </tr>\n",
              "    <tr>\n",
              "      <th>4</th>\n",
              "      <td>-0.756802</td>\n",
              "      <td>-0.653644</td>\n",
              "    </tr>\n",
              "    <tr>\n",
              "      <th>5</th>\n",
              "      <td>-0.958924</td>\n",
              "      <td>0.283662</td>\n",
              "    </tr>\n",
              "    <tr>\n",
              "      <th>6</th>\n",
              "      <td>-0.279415</td>\n",
              "      <td>0.960170</td>\n",
              "    </tr>\n",
              "    <tr>\n",
              "      <th>7</th>\n",
              "      <td>0.656987</td>\n",
              "      <td>0.753902</td>\n",
              "    </tr>\n",
              "    <tr>\n",
              "      <th>8</th>\n",
              "      <td>0.989358</td>\n",
              "      <td>-0.145500</td>\n",
              "    </tr>\n",
              "    <tr>\n",
              "      <th>9</th>\n",
              "      <td>0.412118</td>\n",
              "      <td>-0.911130</td>\n",
              "    </tr>\n",
              "  </tbody>\n",
              "</table>\n",
              "</div>"
            ],
            "text/plain": [
              "     sin(x)    cos(x)\n",
              "0  0.000000  1.000000\n",
              "1  0.841471  0.540302\n",
              "2  0.909297 -0.416147\n",
              "3  0.141120 -0.989992\n",
              "4 -0.756802 -0.653644\n",
              "5 -0.958924  0.283662\n",
              "6 -0.279415  0.960170\n",
              "7  0.656987  0.753902\n",
              "8  0.989358 -0.145500\n",
              "9  0.412118 -0.911130"
            ]
          },
          "metadata": {
            "tags": []
          },
          "execution_count": 209
        }
      ]
    },
    {
      "cell_type": "markdown",
      "metadata": {
        "id": "uisJXQgoBNSL",
        "colab_type": "text"
      },
      "source": [
        "Los indicies de las series de pandas y los dataframes pueden ser enteros, flotantes o cadenas de caracteres."
      ]
    },
    {
      "cell_type": "markdown",
      "metadata": {
        "id": "jyP9bYs_BWJB",
        "colab_type": "text"
      },
      "source": [
        "Veamos ahora como se hace la re-asignacion de columnas en los dataframes , la creacion de nuevas columnas y el re-nombramiento de las columnas.\n",
        "\n",
        "para re-asignar los valores de una columna en un dataframe debe usar una lista de python o un arreglo de numpy 1D cuya longitud sea igual al numero de filas del dataframe. Veamos un ejemplo de esto"
      ]
    },
    {
      "cell_type": "code",
      "metadata": {
        "id": "yCe_Y27BgWI_",
        "colab_type": "code",
        "outputId": "ab00d190-fd7d-46a9-962e-44c0f028ab4e",
        "colab": {
          "base_uri": "https://localhost:8080/",
          "height": 0
        }
      },
      "source": [
        "#creemos un arreglo de numpy con que contenga cadenas de caracteres en sus entradas, para esto consideremos una nueva funcion de numpy np.random.choice\n",
        "np.random.choice(['clase_1' , 'clase_2', 'clase_3'], size=(10,1))"
      ],
      "execution_count": 210,
      "outputs": [
        {
          "output_type": "execute_result",
          "data": {
            "text/plain": [
              "array([['clase_3'],\n",
              "       ['clase_1'],\n",
              "       ['clase_2'],\n",
              "       ['clase_2'],\n",
              "       ['clase_2'],\n",
              "       ['clase_1'],\n",
              "       ['clase_1'],\n",
              "       ['clase_1'],\n",
              "       ['clase_2'],\n",
              "       ['clase_3']], dtype='<U7')"
            ]
          },
          "metadata": {
            "tags": []
          },
          "execution_count": 210
        }
      ]
    },
    {
      "cell_type": "code",
      "metadata": {
        "id": "jcAKxRcTlNZT",
        "colab_type": "code",
        "outputId": "8c0fae8f-b14a-45f4-d560-3556ce31f877",
        "colab": {
          "base_uri": "https://localhost:8080/",
          "height": 0
        }
      },
      "source": [
        "#Re-asignacion de las columnas en un dataframe\n",
        "df[['sin(x)']] =  np.random.choice(['clase_1' , 'clase_2', 'clase_3'], size=(10,1))\n",
        "df "
      ],
      "execution_count": 211,
      "outputs": [
        {
          "output_type": "execute_result",
          "data": {
            "text/html": [
              "<div>\n",
              "<style scoped>\n",
              "    .dataframe tbody tr th:only-of-type {\n",
              "        vertical-align: middle;\n",
              "    }\n",
              "\n",
              "    .dataframe tbody tr th {\n",
              "        vertical-align: top;\n",
              "    }\n",
              "\n",
              "    .dataframe thead th {\n",
              "        text-align: right;\n",
              "    }\n",
              "</style>\n",
              "<table border=\"1\" class=\"dataframe\">\n",
              "  <thead>\n",
              "    <tr style=\"text-align: right;\">\n",
              "      <th></th>\n",
              "      <th>sin(x)</th>\n",
              "      <th>cos(x)</th>\n",
              "    </tr>\n",
              "  </thead>\n",
              "  <tbody>\n",
              "    <tr>\n",
              "      <th>0</th>\n",
              "      <td>clase_3</td>\n",
              "      <td>1.000000</td>\n",
              "    </tr>\n",
              "    <tr>\n",
              "      <th>1</th>\n",
              "      <td>clase_2</td>\n",
              "      <td>0.540302</td>\n",
              "    </tr>\n",
              "    <tr>\n",
              "      <th>2</th>\n",
              "      <td>clase_3</td>\n",
              "      <td>-0.416147</td>\n",
              "    </tr>\n",
              "    <tr>\n",
              "      <th>3</th>\n",
              "      <td>clase_2</td>\n",
              "      <td>-0.989992</td>\n",
              "    </tr>\n",
              "    <tr>\n",
              "      <th>4</th>\n",
              "      <td>clase_2</td>\n",
              "      <td>-0.653644</td>\n",
              "    </tr>\n",
              "    <tr>\n",
              "      <th>5</th>\n",
              "      <td>clase_3</td>\n",
              "      <td>0.283662</td>\n",
              "    </tr>\n",
              "    <tr>\n",
              "      <th>6</th>\n",
              "      <td>clase_1</td>\n",
              "      <td>0.960170</td>\n",
              "    </tr>\n",
              "    <tr>\n",
              "      <th>7</th>\n",
              "      <td>clase_1</td>\n",
              "      <td>0.753902</td>\n",
              "    </tr>\n",
              "    <tr>\n",
              "      <th>8</th>\n",
              "      <td>clase_3</td>\n",
              "      <td>-0.145500</td>\n",
              "    </tr>\n",
              "    <tr>\n",
              "      <th>9</th>\n",
              "      <td>clase_1</td>\n",
              "      <td>-0.911130</td>\n",
              "    </tr>\n",
              "  </tbody>\n",
              "</table>\n",
              "</div>"
            ],
            "text/plain": [
              "    sin(x)    cos(x)\n",
              "0  clase_3  1.000000\n",
              "1  clase_2  0.540302\n",
              "2  clase_3 -0.416147\n",
              "3  clase_2 -0.989992\n",
              "4  clase_2 -0.653644\n",
              "5  clase_3  0.283662\n",
              "6  clase_1  0.960170\n",
              "7  clase_1  0.753902\n",
              "8  clase_3 -0.145500\n",
              "9  clase_1 -0.911130"
            ]
          },
          "metadata": {
            "tags": []
          },
          "execution_count": 211
        }
      ]
    },
    {
      "cell_type": "markdown",
      "metadata": {
        "id": "ysJpYFCiC5BE",
        "colab_type": "text"
      },
      "source": [
        "Como se puede ver, lo valores de la columna `sin(x)` han cambiado. Ahora creemos una nueva columna que no esta en el dataframe."
      ]
    },
    {
      "cell_type": "code",
      "metadata": {
        "id": "0ANkvf8xmFGZ",
        "colab_type": "code",
        "outputId": "f05f9ca3-cff2-418b-b36f-d65ef1a7820d",
        "colab": {
          "base_uri": "https://localhost:8080/",
          "height": 0
        }
      },
      "source": [
        "#Creacion de nuevas columnas en un dataframe\n",
        "df['exp(x)'] = np.exp(x/50)\n",
        "df"
      ],
      "execution_count": 212,
      "outputs": [
        {
          "output_type": "execute_result",
          "data": {
            "text/html": [
              "<div>\n",
              "<style scoped>\n",
              "    .dataframe tbody tr th:only-of-type {\n",
              "        vertical-align: middle;\n",
              "    }\n",
              "\n",
              "    .dataframe tbody tr th {\n",
              "        vertical-align: top;\n",
              "    }\n",
              "\n",
              "    .dataframe thead th {\n",
              "        text-align: right;\n",
              "    }\n",
              "</style>\n",
              "<table border=\"1\" class=\"dataframe\">\n",
              "  <thead>\n",
              "    <tr style=\"text-align: right;\">\n",
              "      <th></th>\n",
              "      <th>sin(x)</th>\n",
              "      <th>cos(x)</th>\n",
              "      <th>exp(x)</th>\n",
              "    </tr>\n",
              "  </thead>\n",
              "  <tbody>\n",
              "    <tr>\n",
              "      <th>0</th>\n",
              "      <td>clase_3</td>\n",
              "      <td>1.000000</td>\n",
              "      <td>1.000000</td>\n",
              "    </tr>\n",
              "    <tr>\n",
              "      <th>1</th>\n",
              "      <td>clase_2</td>\n",
              "      <td>0.540302</td>\n",
              "      <td>1.020201</td>\n",
              "    </tr>\n",
              "    <tr>\n",
              "      <th>2</th>\n",
              "      <td>clase_3</td>\n",
              "      <td>-0.416147</td>\n",
              "      <td>1.040811</td>\n",
              "    </tr>\n",
              "    <tr>\n",
              "      <th>3</th>\n",
              "      <td>clase_2</td>\n",
              "      <td>-0.989992</td>\n",
              "      <td>1.061837</td>\n",
              "    </tr>\n",
              "    <tr>\n",
              "      <th>4</th>\n",
              "      <td>clase_2</td>\n",
              "      <td>-0.653644</td>\n",
              "      <td>1.083287</td>\n",
              "    </tr>\n",
              "    <tr>\n",
              "      <th>5</th>\n",
              "      <td>clase_3</td>\n",
              "      <td>0.283662</td>\n",
              "      <td>1.105171</td>\n",
              "    </tr>\n",
              "    <tr>\n",
              "      <th>6</th>\n",
              "      <td>clase_1</td>\n",
              "      <td>0.960170</td>\n",
              "      <td>1.127497</td>\n",
              "    </tr>\n",
              "    <tr>\n",
              "      <th>7</th>\n",
              "      <td>clase_1</td>\n",
              "      <td>0.753902</td>\n",
              "      <td>1.150274</td>\n",
              "    </tr>\n",
              "    <tr>\n",
              "      <th>8</th>\n",
              "      <td>clase_3</td>\n",
              "      <td>-0.145500</td>\n",
              "      <td>1.173511</td>\n",
              "    </tr>\n",
              "    <tr>\n",
              "      <th>9</th>\n",
              "      <td>clase_1</td>\n",
              "      <td>-0.911130</td>\n",
              "      <td>1.197217</td>\n",
              "    </tr>\n",
              "  </tbody>\n",
              "</table>\n",
              "</div>"
            ],
            "text/plain": [
              "    sin(x)    cos(x)    exp(x)\n",
              "0  clase_3  1.000000  1.000000\n",
              "1  clase_2  0.540302  1.020201\n",
              "2  clase_3 -0.416147  1.040811\n",
              "3  clase_2 -0.989992  1.061837\n",
              "4  clase_2 -0.653644  1.083287\n",
              "5  clase_3  0.283662  1.105171\n",
              "6  clase_1  0.960170  1.127497\n",
              "7  clase_1  0.753902  1.150274\n",
              "8  clase_3 -0.145500  1.173511\n",
              "9  clase_1 -0.911130  1.197217"
            ]
          },
          "metadata": {
            "tags": []
          },
          "execution_count": 212
        }
      ]
    },
    {
      "cell_type": "markdown",
      "metadata": {
        "id": "WqcFXuapDUsI",
        "colab_type": "text"
      },
      "source": [
        "Ahora al igual que paso con los indices, re-nombremos las columnas de nuestro dataframe"
      ]
    },
    {
      "cell_type": "code",
      "metadata": {
        "id": "lHHe2inFmM53",
        "colab_type": "code",
        "outputId": "12f0a338-de17-4646-f0d3-327c98085b82",
        "colab": {
          "base_uri": "https://localhost:8080/",
          "height": 0
        }
      },
      "source": [
        "#Cambial el nombre de las columnas \n",
        "df.columns = ['clase', 'cos(x)', 'exp(x)']\n",
        "df"
      ],
      "execution_count": 213,
      "outputs": [
        {
          "output_type": "execute_result",
          "data": {
            "text/html": [
              "<div>\n",
              "<style scoped>\n",
              "    .dataframe tbody tr th:only-of-type {\n",
              "        vertical-align: middle;\n",
              "    }\n",
              "\n",
              "    .dataframe tbody tr th {\n",
              "        vertical-align: top;\n",
              "    }\n",
              "\n",
              "    .dataframe thead th {\n",
              "        text-align: right;\n",
              "    }\n",
              "</style>\n",
              "<table border=\"1\" class=\"dataframe\">\n",
              "  <thead>\n",
              "    <tr style=\"text-align: right;\">\n",
              "      <th></th>\n",
              "      <th>clase</th>\n",
              "      <th>cos(x)</th>\n",
              "      <th>exp(x)</th>\n",
              "    </tr>\n",
              "  </thead>\n",
              "  <tbody>\n",
              "    <tr>\n",
              "      <th>0</th>\n",
              "      <td>clase_3</td>\n",
              "      <td>1.000000</td>\n",
              "      <td>1.000000</td>\n",
              "    </tr>\n",
              "    <tr>\n",
              "      <th>1</th>\n",
              "      <td>clase_2</td>\n",
              "      <td>0.540302</td>\n",
              "      <td>1.020201</td>\n",
              "    </tr>\n",
              "    <tr>\n",
              "      <th>2</th>\n",
              "      <td>clase_3</td>\n",
              "      <td>-0.416147</td>\n",
              "      <td>1.040811</td>\n",
              "    </tr>\n",
              "    <tr>\n",
              "      <th>3</th>\n",
              "      <td>clase_2</td>\n",
              "      <td>-0.989992</td>\n",
              "      <td>1.061837</td>\n",
              "    </tr>\n",
              "    <tr>\n",
              "      <th>4</th>\n",
              "      <td>clase_2</td>\n",
              "      <td>-0.653644</td>\n",
              "      <td>1.083287</td>\n",
              "    </tr>\n",
              "    <tr>\n",
              "      <th>5</th>\n",
              "      <td>clase_3</td>\n",
              "      <td>0.283662</td>\n",
              "      <td>1.105171</td>\n",
              "    </tr>\n",
              "    <tr>\n",
              "      <th>6</th>\n",
              "      <td>clase_1</td>\n",
              "      <td>0.960170</td>\n",
              "      <td>1.127497</td>\n",
              "    </tr>\n",
              "    <tr>\n",
              "      <th>7</th>\n",
              "      <td>clase_1</td>\n",
              "      <td>0.753902</td>\n",
              "      <td>1.150274</td>\n",
              "    </tr>\n",
              "    <tr>\n",
              "      <th>8</th>\n",
              "      <td>clase_3</td>\n",
              "      <td>-0.145500</td>\n",
              "      <td>1.173511</td>\n",
              "    </tr>\n",
              "    <tr>\n",
              "      <th>9</th>\n",
              "      <td>clase_1</td>\n",
              "      <td>-0.911130</td>\n",
              "      <td>1.197217</td>\n",
              "    </tr>\n",
              "  </tbody>\n",
              "</table>\n",
              "</div>"
            ],
            "text/plain": [
              "     clase    cos(x)    exp(x)\n",
              "0  clase_3  1.000000  1.000000\n",
              "1  clase_2  0.540302  1.020201\n",
              "2  clase_3 -0.416147  1.040811\n",
              "3  clase_2 -0.989992  1.061837\n",
              "4  clase_2 -0.653644  1.083287\n",
              "5  clase_3  0.283662  1.105171\n",
              "6  clase_1  0.960170  1.127497\n",
              "7  clase_1  0.753902  1.150274\n",
              "8  clase_3 -0.145500  1.173511\n",
              "9  clase_1 -0.911130  1.197217"
            ]
          },
          "metadata": {
            "tags": []
          },
          "execution_count": 213
        }
      ]
    },
    {
      "cell_type": "markdown",
      "metadata": {
        "id": "R3KVNXC-g7G8",
        "colab_type": "text"
      },
      "source": [
        "## Ejercicios"
      ]
    },
    {
      "cell_type": "markdown",
      "metadata": {
        "id": "LPKiCPBTZnB1",
        "colab_type": "text"
      },
      "source": [
        "1) Al DataFrame creado en el conjunto de ejercicios anteriro, añada el tipo de flor correspondiente a cada ejemplo (recuerde que los tipos de flores son valores numericos)\n",
        "\n",
        "Ayuda:investigar data['target_names']"
      ]
    },
    {
      "cell_type": "code",
      "metadata": {
        "id": "tKCnDe1heSSr",
        "colab_type": "code",
        "colab": {}
      },
      "source": [
        ""
      ],
      "execution_count": 0,
      "outputs": []
    },
    {
      "cell_type": "markdown",
      "metadata": {
        "id": "Q0cJVUz9EpqR",
        "colab_type": "text"
      },
      "source": [
        ""
      ]
    }
  ]
}